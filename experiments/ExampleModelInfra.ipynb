{
 "cells": [
  {
   "cell_type": "markdown",
   "id": "aed5ca82-350b-49a2-8dcc-4359cd783321",
   "metadata": {},
   "source": [
    "# Note:\n",
    "    Check how model will interact via API"
   ]
  },
  {
   "cell_type": "markdown",
   "id": "c88d6a62-a821-4753-9123-564cb3a6aa82",
   "metadata": {},
   "source": [
    "# import libs"
   ]
  },
  {
   "cell_type": "code",
   "execution_count": 1,
   "id": "48c41f1f-ecff-4cfc-9598-de0dca56e67b",
   "metadata": {},
   "outputs": [],
   "source": [
    "import os, sys\n",
    "import pickle\n",
    "\n",
    "import pandas as pd\n",
    "import numpy as np\n",
    "\n",
    "import matplotlib.pyplot as plt\n",
    "import seaborn as sns\n",
    "\n",
    "from torch.utils.data import DataLoader, Dataset\n",
    "import torch\n",
    "\n",
    "from scipy.stats import ttest_ind\n",
    "from scipy.stats import ttest_1samp\n",
    "from sklearn.metrics import accuracy_score"
   ]
  },
  {
   "cell_type": "markdown",
   "id": "7652f5db-a51a-417b-b765-a5e4f95132de",
   "metadata": {},
   "source": [
    "# Default data"
   ]
  },
  {
   "cell_type": "code",
   "execution_count": 2,
   "id": "a5535cc6-70c7-4a27-8240-be11e80ab43c",
   "metadata": {},
   "outputs": [],
   "source": [
    "df_users = pd.read_parquet('df_users_embedings.parquet')\n",
    "df_users.rename(columns={\"id\":\"user_id\"}, inplace=True)\n",
    "df_posts = pd.read_parquet('df_posts_new_features_and_post.parquet')"
   ]
  },
  {
   "cell_type": "markdown",
   "id": "9d3a66ec-cd80-4061-802d-c073ce33ecf0",
   "metadata": {},
   "source": [
    "# Default setting"
   ]
  },
  {
   "cell_type": "code",
   "execution_count": 3,
   "id": "21bb945a-a8f0-48e4-b18f-f17c1c2cf059",
   "metadata": {},
   "outputs": [],
   "source": [
    "columns = ['post_id',\n",
    " \"text\",\n",
    " \"topic\",\n",
    " 'topic_covid',\n",
    " 'topic_entertainment',\n",
    " 'topic_movie',\n",
    " 'topic_politics',\n",
    " 'topic_sport',\n",
    " 'topic_tech',\n",
    " 'kmean_label',\n",
    " 'DistanceToCluster_0',\n",
    " 'DistanceToCluster_1',\n",
    " 'DistanceToCluster_2',\n",
    " 'DistanceToCluster_3',\n",
    " 'DistanceToCluster_4',\n",
    " 'DistanceToCluster_5',\n",
    " 'DistanceToCluster_6',\n",
    " 'DistanceToCluster_7',\n",
    " 'DistanceToCluster_8',\n",
    " 'DistanceToCluster_9',\n",
    " 'DistanceToCluster_10',\n",
    " 'DistanceToCluster_11',\n",
    " 'DistanceToCluster_12',\n",
    " 'DistanceToCluster_13',\n",
    " 'DistanceToCluster_14',\n",
    " 'gender',\n",
    " 'age',\n",
    " 'Belarus',\n",
    " 'Cyprus',\n",
    " 'Estonia',\n",
    " 'Finland',\n",
    " 'Kazakhstan',\n",
    " 'Latvia',\n",
    " 'Russia',\n",
    " 'Switzerland',\n",
    " 'Turkey',\n",
    " 'Ukraine',\n",
    " 'exp_1',\n",
    " 'exp_2',\n",
    " 'exp_3',\n",
    " 'exp_4',\n",
    " 'Android',\n",
    " 'iOS',\n",
    " 'ads',\n",
    " 'organic']"
   ]
  },
  {
   "cell_type": "code",
   "execution_count": 4,
   "id": "ffdc9d1d-28c5-47ab-9a57-f8da31842875",
   "metadata": {},
   "outputs": [],
   "source": [
    "limit = 5"
   ]
  },
  {
   "cell_type": "code",
   "execution_count": 5,
   "id": "46329c27-9596-46fd-ae6d-02a673fe64cb",
   "metadata": {},
   "outputs": [],
   "source": [
    "model = torch.jit.load(\"CustomResidualNN_2024_CPU.pth\")"
   ]
  },
  {
   "cell_type": "markdown",
   "id": "61fcef82-4cc8-461d-bb97-2cd652afb752",
   "metadata": {},
   "source": [
    "# API recommendaitons"
   ]
  },
  {
   "cell_type": "markdown",
   "id": "5dce2bd0-0d44-4e4b-a39e-148a36bbe441",
   "metadata": {},
   "source": [
    "#### Define user_id"
   ]
  },
  {
   "cell_type": "code",
   "execution_count": 6,
   "id": "6960729c-e02a-45b1-84cd-020363893e12",
   "metadata": {},
   "outputs": [],
   "source": [
    "id_user = 4001"
   ]
  },
  {
   "cell_type": "markdown",
   "id": "0bf656e0-d9f2-4ddb-8311-429fc4135513",
   "metadata": {},
   "source": [
    "#### Create cartesian project between user and all posts"
   ]
  },
  {
   "cell_type": "code",
   "execution_count": 7,
   "id": "181b80ef-34f7-491c-98d1-88a23d68f572",
   "metadata": {},
   "outputs": [],
   "source": [
    "user_info_row = df_users[df_users.user_id == id_user]"
   ]
  },
  {
   "cell_type": "code",
   "execution_count": 8,
   "id": "9333f1c1-a6ac-4e31-b95f-636dc24e3e09",
   "metadata": {},
   "outputs": [],
   "source": [
    "temp_df = pd.merge(user_info_row, df_posts, how='cross')[columns]"
   ]
  },
  {
   "cell_type": "code",
   "execution_count": 9,
   "id": "9df20e17-435b-4b87-977d-35fd440b60ba",
   "metadata": {},
   "outputs": [
    {
     "data": {
      "text/html": [
       "<div>\n",
       "<style scoped>\n",
       "    .dataframe tbody tr th:only-of-type {\n",
       "        vertical-align: middle;\n",
       "    }\n",
       "\n",
       "    .dataframe tbody tr th {\n",
       "        vertical-align: top;\n",
       "    }\n",
       "\n",
       "    .dataframe thead th {\n",
       "        text-align: right;\n",
       "    }\n",
       "</style>\n",
       "<table border=\"1\" class=\"dataframe\">\n",
       "  <thead>\n",
       "    <tr style=\"text-align: right;\">\n",
       "      <th></th>\n",
       "      <th>post_id</th>\n",
       "      <th>text</th>\n",
       "      <th>topic</th>\n",
       "      <th>topic_covid</th>\n",
       "      <th>topic_entertainment</th>\n",
       "      <th>topic_movie</th>\n",
       "      <th>topic_politics</th>\n",
       "      <th>topic_sport</th>\n",
       "      <th>topic_tech</th>\n",
       "      <th>kmean_label</th>\n",
       "      <th>...</th>\n",
       "      <th>Turkey</th>\n",
       "      <th>Ukraine</th>\n",
       "      <th>exp_1</th>\n",
       "      <th>exp_2</th>\n",
       "      <th>exp_3</th>\n",
       "      <th>exp_4</th>\n",
       "      <th>Android</th>\n",
       "      <th>iOS</th>\n",
       "      <th>ads</th>\n",
       "      <th>organic</th>\n",
       "    </tr>\n",
       "  </thead>\n",
       "  <tbody>\n",
       "    <tr>\n",
       "      <th>0</th>\n",
       "      <td>1</td>\n",
       "      <td>UK economy facing major risks\\n\\nThe UK manufa...</td>\n",
       "      <td>business</td>\n",
       "      <td>False</td>\n",
       "      <td>False</td>\n",
       "      <td>False</td>\n",
       "      <td>False</td>\n",
       "      <td>False</td>\n",
       "      <td>False</td>\n",
       "      <td>2</td>\n",
       "      <td>...</td>\n",
       "      <td>False</td>\n",
       "      <td>False</td>\n",
       "      <td>False</td>\n",
       "      <td>False</td>\n",
       "      <td>True</td>\n",
       "      <td>False</td>\n",
       "      <td>True</td>\n",
       "      <td>False</td>\n",
       "      <td>True</td>\n",
       "      <td>False</td>\n",
       "    </tr>\n",
       "    <tr>\n",
       "      <th>1</th>\n",
       "      <td>2</td>\n",
       "      <td>Aids and climate top Davos agenda\\n\\nClimate c...</td>\n",
       "      <td>business</td>\n",
       "      <td>False</td>\n",
       "      <td>False</td>\n",
       "      <td>False</td>\n",
       "      <td>False</td>\n",
       "      <td>False</td>\n",
       "      <td>False</td>\n",
       "      <td>2</td>\n",
       "      <td>...</td>\n",
       "      <td>False</td>\n",
       "      <td>False</td>\n",
       "      <td>False</td>\n",
       "      <td>False</td>\n",
       "      <td>True</td>\n",
       "      <td>False</td>\n",
       "      <td>True</td>\n",
       "      <td>False</td>\n",
       "      <td>True</td>\n",
       "      <td>False</td>\n",
       "    </tr>\n",
       "  </tbody>\n",
       "</table>\n",
       "<p>2 rows × 45 columns</p>\n",
       "</div>"
      ],
      "text/plain": [
       "   post_id                                               text     topic  \\\n",
       "0        1  UK economy facing major risks\\n\\nThe UK manufa...  business   \n",
       "1        2  Aids and climate top Davos agenda\\n\\nClimate c...  business   \n",
       "\n",
       "   topic_covid  topic_entertainment  topic_movie  topic_politics  topic_sport  \\\n",
       "0        False                False        False           False        False   \n",
       "1        False                False        False           False        False   \n",
       "\n",
       "   topic_tech  kmean_label  ...  Turkey  Ukraine  exp_1  exp_2  exp_3  exp_4  \\\n",
       "0       False            2  ...   False    False  False  False   True  False   \n",
       "1       False            2  ...   False    False  False  False   True  False   \n",
       "\n",
       "   Android    iOS   ads  organic  \n",
       "0     True  False  True    False  \n",
       "1     True  False  True    False  \n",
       "\n",
       "[2 rows x 45 columns]"
      ]
     },
     "execution_count": 9,
     "metadata": {},
     "output_type": "execute_result"
    }
   ],
   "source": [
    "temp_df.head(2)"
   ]
  },
  {
   "cell_type": "markdown",
   "id": "b3a66d77-79ab-4083-9181-b7793fb2cc86",
   "metadata": {},
   "source": [
    "#### Convert temp df to a pytorch class"
   ]
  },
  {
   "cell_type": "code",
   "execution_count": 10,
   "id": "a5ff360f-5561-47f1-a478-4492552256b4",
   "metadata": {},
   "outputs": [],
   "source": [
    "class CustomImageDataset(Dataset):\n",
    "    def __init__(self, df: pd.DataFrame):\n",
    "        self.df = df\n",
    "\n",
    "    def __len__(self):\n",
    "        return len(self.df)\n",
    "\n",
    "    def __getitem__(self, idx):\n",
    "        data = self.df.loc[idx].iloc[3:]\n",
    "        return torch.Tensor(data).unsqueeze(0)"
   ]
  },
  {
   "cell_type": "code",
   "execution_count": 11,
   "id": "f016dfac-0f82-4c14-81a0-76164edfd2e0",
   "metadata": {},
   "outputs": [],
   "source": [
    "loader = DataLoader(CustomImageDataset(df=temp_df.copy()), batch_size=64, pin_memory=True, num_workers=4, shuffle=False)"
   ]
  },
  {
   "cell_type": "markdown",
   "id": "6b63ff42-92d8-4c74-bd30-817638030dbe",
   "metadata": {},
   "source": [
    "#### Load Model && get prediciton probs"
   ]
  },
  {
   "cell_type": "code",
   "execution_count": 12,
   "id": "fd0994c9-7bff-4ceb-a32d-bcd8d16958fd",
   "metadata": {},
   "outputs": [],
   "source": [
    "@torch.inference_mode()\n",
    "def model_inference(data) -> list[float]:\n",
    "    model.eval()\n",
    "    return list(model(data).view(data.shape[0]).detach().numpy())"
   ]
  },
  {
   "cell_type": "code",
   "execution_count": 13,
   "id": "a691df23-3799-4c50-a4de-4995f00a616c",
   "metadata": {},
   "outputs": [],
   "source": [
    "def get_probs(loader) -> list[float]:\n",
    "    data = []\n",
    "    for x in loader:\n",
    "        data.extend(model_inference(x))\n",
    "    return data"
   ]
  },
  {
   "cell_type": "code",
   "execution_count": 14,
   "id": "76a1d06d-ba75-4d7f-93d8-72199055b121",
   "metadata": {},
   "outputs": [
    {
     "name": "stderr",
     "output_type": "stream",
     "text": [
      "/tmp/ipykernel_26195/653007489.py:10: FutureWarning: Series.__getitem__ treating keys as positions is deprecated. In a future version, integer keys will always be treated as labels (consistent with DataFrame behavior). To access a value by position, use `ser.iloc[pos]`\n",
      "  return torch.Tensor(data).unsqueeze(0)\n",
      "/tmp/ipykernel_26195/653007489.py:10: FutureWarning: Series.__getitem__ treating keys as positions is deprecated. In a future version, integer keys will always be treated as labels (consistent with DataFrame behavior). To access a value by position, use `ser.iloc[pos]`\n",
      "  return torch.Tensor(data).unsqueeze(0)\n",
      "/tmp/ipykernel_26195/653007489.py:10: FutureWarning: Series.__getitem__ treating keys as positions is deprecated. In a future version, integer keys will always be treated as labels (consistent with DataFrame behavior). To access a value by position, use `ser.iloc[pos]`\n",
      "  return torch.Tensor(data).unsqueeze(0)\n",
      "/tmp/ipykernel_26195/653007489.py:10: FutureWarning: Series.__getitem__ treating keys as positions is deprecated. In a future version, integer keys will always be treated as labels (consistent with DataFrame behavior). To access a value by position, use `ser.iloc[pos]`\n",
      "  return torch.Tensor(data).unsqueeze(0)\n"
     ]
    }
   ],
   "source": [
    "probs = get_probs(loader)"
   ]
  },
  {
   "cell_type": "markdown",
   "id": "ad86f988-1e7f-4c58-b749-301e9addc135",
   "metadata": {},
   "source": [
    "#### Create Recomendations based on probs"
   ]
  },
  {
   "cell_type": "code",
   "execution_count": 15,
   "id": "9fb7d268-54f8-4151-9b4b-6f1071702784",
   "metadata": {},
   "outputs": [],
   "source": [
    "temp_df[\"probs\"] = probs\n",
    "temp_df.sort_values(by=[\"probs\"], ascending=False, inplace=True)"
   ]
  },
  {
   "cell_type": "code",
   "execution_count": 16,
   "id": "2adcff63-211c-41b3-ae7b-70b3649cfaca",
   "metadata": {},
   "outputs": [],
   "source": [
    "post_recomended_df = temp_df[[\"post_id\",\"text\",\"topic\"]].head(5)"
   ]
  },
  {
   "cell_type": "code",
   "execution_count": 17,
   "id": "de1eba1a-36df-400b-b1bd-9b29547da69a",
   "metadata": {},
   "outputs": [
    {
     "data": {
      "text/html": [
       "<div>\n",
       "<style scoped>\n",
       "    .dataframe tbody tr th:only-of-type {\n",
       "        vertical-align: middle;\n",
       "    }\n",
       "\n",
       "    .dataframe tbody tr th {\n",
       "        vertical-align: top;\n",
       "    }\n",
       "\n",
       "    .dataframe thead th {\n",
       "        text-align: right;\n",
       "    }\n",
       "</style>\n",
       "<table border=\"1\" class=\"dataframe\">\n",
       "  <thead>\n",
       "    <tr style=\"text-align: right;\">\n",
       "      <th></th>\n",
       "      <th>post_id</th>\n",
       "      <th>text</th>\n",
       "      <th>topic</th>\n",
       "    </tr>\n",
       "  </thead>\n",
       "  <tbody>\n",
       "    <tr>\n",
       "      <th>370</th>\n",
       "      <td>317</td>\n",
       "      <td>Borussia Dortmund near bust\\n\\nGerman football...</td>\n",
       "      <td>business</td>\n",
       "    </tr>\n",
       "    <tr>\n",
       "      <th>178</th>\n",
       "      <td>153</td>\n",
       "      <td>Tsunami to hit Sri Lanka banks\\n\\nSri Lankas b...</td>\n",
       "      <td>business</td>\n",
       "    </tr>\n",
       "    <tr>\n",
       "      <th>204</th>\n",
       "      <td>179</td>\n",
       "      <td>Ad sales boost Time Warner profit\\n\\nQuarterly...</td>\n",
       "      <td>business</td>\n",
       "    </tr>\n",
       "    <tr>\n",
       "      <th>5992</th>\n",
       "      <td>6243</td>\n",
       "      <td>Clint Eastwood reprises his role as Dirty Harr...</td>\n",
       "      <td>movie</td>\n",
       "    </tr>\n",
       "    <tr>\n",
       "      <th>6077</th>\n",
       "      <td>6333</td>\n",
       "      <td>Hello Dave Burning Paradise is a film for anyo...</td>\n",
       "      <td>movie</td>\n",
       "    </tr>\n",
       "  </tbody>\n",
       "</table>\n",
       "</div>"
      ],
      "text/plain": [
       "      post_id                                               text     topic\n",
       "370       317  Borussia Dortmund near bust\\n\\nGerman football...  business\n",
       "178       153  Tsunami to hit Sri Lanka banks\\n\\nSri Lankas b...  business\n",
       "204       179  Ad sales boost Time Warner profit\\n\\nQuarterly...  business\n",
       "5992     6243  Clint Eastwood reprises his role as Dirty Harr...     movie\n",
       "6077     6333  Hello Dave Burning Paradise is a film for anyo...     movie"
      ]
     },
     "execution_count": 17,
     "metadata": {},
     "output_type": "execute_result"
    }
   ],
   "source": [
    "post_recomended_df"
   ]
  },
  {
   "cell_type": "markdown",
   "id": "434b7598-c2dd-4fa7-993b-b1196f05eeb8",
   "metadata": {},
   "source": [
    "#### Convert post df to json"
   ]
  },
  {
   "cell_type": "code",
   "execution_count": 18,
   "id": "b5363e9a-b82e-4ce1-9f56-30acea2cb4c1",
   "metadata": {},
   "outputs": [],
   "source": [
    "def data_to_json(data: pd.DataFrame) -> list:\n",
    "    return [{\"id\": sample_of_data.post_id,\n",
    "             \"text\": sample_of_data.text,\n",
    "             \"topic\": sample_of_data.topic} for sample_of_data in data.itertuples()]"
   ]
  },
  {
   "cell_type": "code",
   "execution_count": 19,
   "id": "d0cddfb7-6eb3-443f-acad-bf5af53bbe75",
   "metadata": {},
   "outputs": [
    {
     "data": {
      "text/plain": [
       "[{'id': 317,\n",
       "  'text': 'Borussia Dortmund near bust\\n\\nGerman football club and former European champion Borussia Dortmund has warned it will go bankrupt if rescue talks with creditors fail.\\n\\nThe companys shares tumbled after it said it has entered a life-threatening profitability and financial situation. Borussia Dortmund has posted record losses and missed rent payments on its Westfallen stadium. Chief executive Gerd Niebaum stepped down last week and creditors are now pushing for greater control. Shares in Borussia Dortmund, Germanys only stock-market listed football club, dropped by almost 23% to 2.05 euros during early afternoon trading.\\n\\nFund manager Florian Hamm - Borussia Dortmunds largest investor - said he would only invest more money in the company if he got a greater say in how it is run. I demand better transparency, he is quoted as saying by Germanys Manger Magazin. The club has also faced calls to appoint executives from outside the club.\\n\\nBorussia Dortmund posted a record loss of 68m euros ($89m; £47m) in the 12 months through June. It made a loss of 27.2m euros in the first half of the current fiscal year and said that total debts will increase to 134.7m euros by the middle of 2006 unless a restructuring plan is pushed through. This is the bill for their mismanagement over the past years, said HVB analyst Peter-Thilo Halser. The club appointed an auditor, who has recommended a number of steps, including deferring the rent due on the stadium and suspending debt repayments until at least the 2006-2007 fiscal year. Stephen Schechter, a UK investment banker who has held talks with Borussia Dortmund over a possible bond sale, said the club needs a capital injection of 35m euros. They need strong people on the board who do not have a history with the club, he said.\\n',\n",
       "  'topic': 'business'},\n",
       " {'id': 153,\n",
       "  'text': 'Tsunami to hit Sri Lanka banks\\n\\nSri Lankas banks face hard times following Decembers tsunami disaster, officials have warned.\\n\\nThe Sri Lanka Banks Association said the waves which killed more than 30,000 people also washed away huge amounts of property which was securing loans. According to its estimate, as much as 13.6% of the loans made by private banks to clients in the disaster zone has been written off or damaged. State-owned lenders may be even worse hit, it said.\\n\\nThe association estimates that the private banking sector has 25bn rupees ($250m; £135m) of loans outstanding in the disaster zone. On one hand, banks are dealing with the death of their customers, along with damaged or destroyed collateral. On the other, most are extending cheap loans for rebuilding and recovery, as well as giving their clients more time to repay existing borrowing. The combination means a revenue shortfall during 2005, SLBA chairman - and Commercial Bank managing director - AL Gooneratne told a news conference. Most banks have given moratoriums and will not be collecting interest, at least in this quarter, he said. In the public sector, more than one in ten of the state-owned Peoples Banks customers in the south of Sri Lanka were affected, a bank spokesman told Reuters. He estimated the banks loss at 3bn rupees.\\n',\n",
       "  'topic': 'business'},\n",
       " {'id': 179,\n",
       "  'text': 'Ad sales boost Time Warner profit\\n\\nQuarterly profits at US media giant TimeWarner jumped 76% to $1.13bn (£600m) for the three months to December, from $639m year-earlier.\\n\\nThe firm, which is now one of the biggest investors in Google, benefited from sales of high-speed internet connections and higher advert sales. TimeWarner said fourth quarter sales rose 2% to $11.1bn from $10.9bn. Its profits were buoyed by one-off gains which offset a profit dip at Warner Bros, and less users for AOL.\\n\\nTime Warner said on Friday that it now owns 8% of search-engine Google. But its own internet business, AOL, had has mixed fortunes. It lost 464,000 subscribers in the fourth quarter profits were lower than in the preceding three quarters. However, the company said AOLs underlying profit before exceptional items rose 8% on the back of stronger internet advertising revenues. It hopes to increase subscribers by offering the online service free to TimeWarner internet customers and will try to sign up AOLs existing customers for high-speed broadband. TimeWarner also has to restate 2000 and 2003 results following a probe by the US Securities Exchange Commission (SEC), which is close to concluding.\\n\\nTime Warners fourth quarter profits were slightly better than analysts expectations. But its film division saw profits slump 27% to $284m, helped by box-office flops Alexander and Catwoman, a sharp contrast to year-earlier, when the third and final film in the Lord of the Rings trilogy boosted results. For the full-year, TimeWarner posted a profit of $3.36bn, up 27% from its 2003 performance, while revenues grew 6.4% to $42.09bn. Our financial performance was strong, meeting or exceeding all of our full-year objectives and greatly enhancing our flexibility, chairman and chief executive Richard Parsons said. For 2005, TimeWarner is projecting operating earnings growth of around 5%, and also expects higher revenue and wider profit margins.\\n\\nTimeWarner is to restate its accounts as part of efforts to resolve an inquiry into AOL by US market regulators. It has already offered to pay $300m to settle charges, in a deal that is under review by the SEC. The company said it was unable to estimate the amount it needed to set aside for legal reserves, which it previously set at $500m. It intends to adjust the way it accounts for a deal with German music publisher Bertelsmanns purchase of a stake in AOL Europe, which it had reported as advertising revenue. It will now book the sale of its stake in AOL Europe as a loss on the value of that stake.\\n',\n",
       "  'topic': 'business'},\n",
       " {'id': 6243,\n",
       "  'text': 'Clint Eastwood reprises his role as Dirty Harry who this time is on the case of a vigilante (Sondra Locke)who is killing the people that raped her and her sister at a carnival many years ago. Eastwood makes the role his and the movie is mainly more action then talk, not that Im complaining. Sudden Impact is indeed enjoyable entertainment.',\n",
       "  'topic': 'movie'},\n",
       " {'id': 6333,\n",
       "  'text': 'Hello Dave Burning Paradise is a film for anyone who likes Jackie Chan and Indiana Jones. The films main protagonist is most definitely the bastard son of these two strange fathers. As for the other characters well they are familiar transformations of similar action film stereotypes. Where this film is original is in the blending of the traditional Hong Kong movie style with the Hollywood action adventure. Sadly this has not been true of the films he has made in Hollywood.',\n",
       "  'topic': 'movie'}]"
      ]
     },
     "execution_count": 19,
     "metadata": {},
     "output_type": "execute_result"
    }
   ],
   "source": [
    "data_to_json(post_recomended_df)"
   ]
  },
  {
   "cell_type": "markdown",
   "id": "0c369f79-af14-43eb-bfaa-dcbf8158452f",
   "metadata": {},
   "source": [
    "# Class to standart pipline infr"
   ]
  },
  {
   "cell_type": "code",
   "execution_count": 6,
   "id": "7e6409fc-9e6e-4682-85ee-a8915d83375a",
   "metadata": {},
   "outputs": [],
   "source": [
    "class CustomImageDataset(Dataset):\n",
    "    def __init__(self, df: pd.DataFrame):\n",
    "        self.df = df\n",
    "\n",
    "    def __len__(self):\n",
    "        return len(self.df)\n",
    "\n",
    "    def __getitem__(self, idx):\n",
    "        data = self.df.loc[idx].iloc[3:]\n",
    "        return torch.Tensor(data).unsqueeze(0)\n",
    "\n",
    "class ModelInference:\n",
    "    def __init__(self,\n",
    "                 model: object = None,\n",
    "                 df_users: pd.DataFrame = None,\n",
    "                 df_posts: pd.DataFrame = None,\n",
    "                 user_index: int = None,\n",
    "                 limit: int = None):\n",
    "        self.columns = ['post_id', \"text\", \"topic\", 'topic_covid','topic_entertainment','topic_movie', 'topic_politics', 'topic_sport',\n",
    " 'topic_tech', 'kmean_label', 'DistanceToCluster_0', 'DistanceToCluster_1', 'DistanceToCluster_2', 'DistanceToCluster_3', 'DistanceToCluster_4',\n",
    " 'DistanceToCluster_5', 'DistanceToCluster_6', 'DistanceToCluster_7', 'DistanceToCluster_8', 'DistanceToCluster_9', 'DistanceToCluster_10',\n",
    " 'DistanceToCluster_11', 'DistanceToCluster_12', 'DistanceToCluster_13', 'DistanceToCluster_14', 'gender', 'age', 'Belarus', 'Cyprus',\n",
    " 'Estonia', 'Finland', 'Kazakhstan', 'Latvia', 'Russia', 'Switzerland', 'Turkey', 'Ukraine',\n",
    " 'exp_1', 'exp_2', 'exp_3', 'exp_4', 'Android', 'iOS', 'ads', 'organic']\n",
    "        self.df_users = df_users.copy()\n",
    "        self.df_posts = df_posts.copy()\n",
    "        self.user_index = user_index\n",
    "        self.limit = limit\n",
    "\n",
    "    def create_cartesian_product(self) -> pd.DataFrame:\n",
    "        \"\"\"Create matrix product between user info and all posts via cross join by user id.\"\"\"\n",
    "        user_info_row = self.df_users[self.df_users.user_id == self.user_index]\n",
    "        return pd.merge(user_info_row, self.df_posts, how='cross')[self.columns]\n",
    "\n",
    "    def create_torch_dataset(self, data) -> object:\n",
    "        return DataLoader(CustomImageDataset(df=data), batch_size=64, pin_memory=True, num_workers=4, shuffle=False)\n",
    "\n",
    "    @torch.inference_mode()\n",
    "    def model_inference(self, data) -> list[float]:\n",
    "        model.eval()\n",
    "        return list(model(data).view(data.shape[0]).detach().numpy())\n",
    "\n",
    "    def get_probs(self, loader) -> list[float]:\n",
    "        data = []\n",
    "        for x in loader:\n",
    "            data.extend(self.model_inference(x))\n",
    "        return data\n",
    "\n",
    "    def data_to_json(self, data: pd.DataFrame) -> list:\n",
    "        return [{\"id\": sample_of_data.post_id,\n",
    "                 \"text\": sample_of_data.text,\n",
    "                 \"topic\": sample_of_data.topic} for sample_of_data in data.itertuples()]\n",
    "\n",
    "    def predict(self) -> list:\n",
    "        data = self.create_cartesian_product()\n",
    "        loader = self.create_torch_dataset(data)\n",
    "        probs = self.get_probs(loader)\n",
    "        data[\"probs\"] = probs\n",
    "        data.sort_values(by=[\"probs\"], ascending=False, inplace=True)\n",
    "        return self.data_to_json(data.head(self.limit))"
   ]
  },
  {
   "cell_type": "code",
   "execution_count": 8,
   "id": "745059a2-c469-4b94-a697-591079a9fa41",
   "metadata": {},
   "outputs": [
    {
     "name": "stderr",
     "output_type": "stream",
     "text": [
      "/tmp/ipykernel_27815/3738048816.py:10: FutureWarning: Series.__getitem__ treating keys as positions is deprecated. In a future version, integer keys will always be treated as labels (consistent with DataFrame behavior). To access a value by position, use `ser.iloc[pos]`\n",
      "  return torch.Tensor(data).unsqueeze(0)\n",
      "/tmp/ipykernel_27815/3738048816.py:10: FutureWarning: Series.__getitem__ treating keys as positions is deprecated. In a future version, integer keys will always be treated as labels (consistent with DataFrame behavior). To access a value by position, use `ser.iloc[pos]`\n",
      "  return torch.Tensor(data).unsqueeze(0)\n",
      "/tmp/ipykernel_27815/3738048816.py:10: FutureWarning: Series.__getitem__ treating keys as positions is deprecated. In a future version, integer keys will always be treated as labels (consistent with DataFrame behavior). To access a value by position, use `ser.iloc[pos]`\n",
      "  return torch.Tensor(data).unsqueeze(0)\n",
      "/tmp/ipykernel_27815/3738048816.py:10: FutureWarning: Series.__getitem__ treating keys as positions is deprecated. In a future version, integer keys will always be treated as labels (consistent with DataFrame behavior). To access a value by position, use `ser.iloc[pos]`\n",
      "  return torch.Tensor(data).unsqueeze(0)\n"
     ]
    },
    {
     "data": {
      "text/plain": [
       "[{'id': 1616,\n",
       "  'text': 'QPR keeper Day heads for Preston\\n\\nQueens Park Rangers keeper Chris Day is set to join Preston on a months loan.\\n\\nDay has been displaced by the arrival of Simon Royce, who is in his second month on loan from Charlton. QPR have also signed Italian Generoso Rossi. Rs manager Ian Holloway said: Some might say its a risk as he cant be recalled during that month and Simon Royce can now be recalled by Charlton. But I have other irons in the fire. I have had a yes from a couple of others should I need them.\\n\\nDays Rangers contract expires in the summer. Meanwhile, Holloway is hoping to complete the signing of Middlesbrough defender Andy Davies - either permanently or again on loan - before Saturdays match at Ipswich. Davies impressed during a recent loan spell at Loftus Road. Holloway is also chasing Bristol City midfielder Tom Doherty.\\n',\n",
       "  'topic': 'sport'},\n",
       " {'id': 1313,\n",
       "  'text': 'MPs issued with Blackberry threat\\n\\nMPs will be thrown out of the Commons if they use Blackberries in the chamber Speaker Michael Martin has ruled.\\n\\nThe £200 handheld computers can be used as a phone, pager or to send e-mails. The devices gained new prominence this week after Alastair Campbell used his to accidentally send an expletive-laden message to a Newsnight journalist. Mr Martin revealed some MPs had been using their Blackberries during debates and he also cautioned members against using hidden earpieces.\\n\\nThe use of electronic devices in the Commons chamber has long been frowned on. The sound of a mobile phone or a pager can result in a strong rebuke from either the Speaker or his deputies. The Speaker chairs debates in the Commons and is charged with ensuring order in the chamber and enforcing rules and conventions of the House. He or she is always an MP chosen by colleagues who, once nominated, gives up all party political allegiances.\\n',\n",
       "  'topic': 'politics'},\n",
       " {'id': 996,\n",
       "  'text': 'MPs issued with Blackberry threat\\n\\nMPs will be thrown out of the Commons if they use Blackberries in the chamber Speaker Michael Martin has ruled.\\n\\nThe £200 handheld computers can be used as a phone, pager or to send e-mails. The devices gained new prominence this week after Alastair Campbell used his to accidentally send an expletive-laden message to a Newsnight journalist. Mr Martin revealed some MPs had been using their Blackberries during debates and he also cautioned members against using hidden earpieces.\\n\\nThe use of electronic devices in the Commons chamber has long been frowned on. The sound of a mobile phone or a pager can result in a strong rebuke from either the Speaker or his deputies. The Speaker chairs debates in the Commons and is charged with ensuring order in the chamber and enforcing rules and conventions of the House. He or she is always an MP chosen by colleagues who, once nominated, gives up all party political allegiances.\\n',\n",
       "  'topic': 'politics'},\n",
       " {'id': 1013,\n",
       "  'text': 'Guantanamo pairs passport ban\\n\\nThe government has written to two of the British men freed from Guantanamo Bay telling them they will not be allowed passports.\\n\\nA letter sent to Martin Mubanga said his British passport would not be issued in the light of evidence gathered against him by the US. This suggested he was likely to take part in action against UK or allied targets if he left Britain, it said. An identical letter has been sent to Feroz Abbasi, the mens solicitor says.\\n\\nIt is not known whether the other two men released from the Cuba detention camp in January - Richard Belmar and Moazzam Begg - have also received letters. The government is implementing the rarely used Royal Prerogative in order to withdraw the mens passports. It is only the 13th time the power has been used since 1947 - the last time was in 1976. The letter, from the Home Office, says: I am writing to inform you that on the basis of the information which has come to light during your detention by the United States, the home secretary considered that there are strong grounds for believing that, on leaving the United Kingdom, you would take part in activities against the United Kingdom, or allied targets.\\n\\nThe Home Office said it could not comment on individual cases.\\n\\nThe Liberal Democrats say they suspect the move is part of a package of security measures agreed with the US in order for the men to be allowed home from Guantanamo Bay.\\n\\nHome Affairs spokesman Mark Oaten also demanded assurances that the evidence against the men was not gained under torture. He added: The power should only be used in absolute extreme circumstances and I find it hard to believe that these conditions have been met this time. He said the move also raised complex questions about the use of the Royal Prerogative. The Liberal Democrats have promised to raise the issue in Parliament.\\n\\nAmnesty International UK also questioned whether the decisions had been based on torture evidence obtained at Guantanamo Bay. Furthermore, we believe there should be an investigation into the role played by the UK in the detention of UK residents and nationals and possibly many others at Guantanamo Bay, said director Kate Allen. The mens solicitor, Louise Christian, has raised questions about whether the evidence was gathered through torture. But the Pentagon told BBC News US policy condemns and prohibits torture and said there was no evidence that any British detainee was tortured or abused. Mr Abbasi, 23, from Croydon, south London, was taken to Guantanamo Bay after being captured in Afghanistan in 2001. Mr Mubanga, 29, from north London, was originally detained in Zambia.\\n',\n",
       "  'topic': 'politics'},\n",
       " {'id': 939,\n",
       "  'text': 'Baron Kinnock makes Lords debut\\n\\nFormer Labour leader Neil Kinnock has officially been made a life peer during a ceremony in the House of Lords.\\n\\nHe will be known Baron Kinnock of Bedwellty - after his former constituency. Lord Kinnock - who led Labour from 1983 until 1992 - was until recently one of Britains EU commissioners. A former critic of the House of Lords, he has said he will use the Upper House to advocate its reform and to talk on issues like higher education. I accepted the kind invitation to enter the House of Lords as a working peer for practical political reasons, he said when his peerage was first announced. It is a good base for campaigning on national issues like education, sustainable transport, industrial change and the ageing society and global concerns, particularly poverty and oppression. During his induction into the Upper House, Lord Kinnock was accompanied by Lords Leader Baroness Amos and Baroness Royall of Blaisdon, a former aide to the ex-Labour leader. It has been a long journey for the new Lord Kinnock from his earliest days as a rebellious youngster in the south Wales valleys. Born in 1942 in Tredegar to a miner father and nurse mother, he attended Lewis Boys School in nearby Pengam, known then as the Eton of the valleys. From there he went to Cardiff University, where he met his future wife Glenys, now a Labour MEP.\\n\\nAfter a brief career as a tutor for the Workers Educational Association, he became an MP at the age of just 28 for his home seat of Bedwellty (later Islwyn). He gained a reputation as a left-wing firebrand, voting against his own Labour governments spending cuts proposals in 1975, and later rejecting a junior post in James Callaghans administration. But he joined the shadow cabinet in 1980, and after Labours heavy defeat in the 1983 he was elected leader. He took on the far-left Militant Tendency and began the long process of returning his party to the centre ground. He was not expected to win the 1987 election, when Margaret Thatcher was still riding high, but was bitterly disappointed to lose the next one in 1992 to John Major, and stepped down. He remained an MP until 1995, when he resigned to become European commission for transport. Four years later he became vice-president of the European Commission, with responsibility for internal reform. As he assumes the title of Lord Kinnock, he has also become chairman of the British Council, which promotes the UKs reputation for arts, science and education.\\n',\n",
       "  'topic': 'politics'}]"
      ]
     },
     "execution_count": 8,
     "metadata": {},
     "output_type": "execute_result"
    }
   ],
   "source": [
    "ModelInference(df_users=df_users, df_posts=df_posts, model=model, user_index=202, limit=5).predict()"
   ]
  },
  {
   "cell_type": "code",
   "execution_count": null,
   "id": "bcea5b74-7904-440d-a2ab-bfb9fca14f53",
   "metadata": {},
   "outputs": [],
   "source": []
  }
 ],
 "metadata": {
  "kernelspec": {
   "display_name": "Python 3 (ipykernel)",
   "language": "python",
   "name": "python3"
  },
  "language_info": {
   "codemirror_mode": {
    "name": "ipython",
    "version": 3
   },
   "file_extension": ".py",
   "mimetype": "text/x-python",
   "name": "python",
   "nbconvert_exporter": "python",
   "pygments_lexer": "ipython3",
   "version": "3.10.12"
  }
 },
 "nbformat": 4,
 "nbformat_minor": 5
}
