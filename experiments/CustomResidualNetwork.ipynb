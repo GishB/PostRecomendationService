{
 "cells": [
  {
   "cell_type": "markdown",
   "id": "152457ac-910a-4ba7-bd89-7e6e67f2960a",
   "metadata": {},
   "source": [
    "# Note:\n",
    "\n",
    "    Main idea is to increase ROC-AUC score more than 0.8 and F1 > 80%"
   ]
  },
  {
   "cell_type": "markdown",
   "id": "63da4aa5-4cdc-4da6-8ea8-51d881240ad4",
   "metadata": {},
   "source": [
    "# Import libraries"
   ]
  },
  {
   "cell_type": "code",
   "execution_count": 1,
   "id": "10cacbdf-ed12-4805-8117-46c59a0d259a",
   "metadata": {},
   "outputs": [],
   "source": [
    "import os, sys\n",
    "import pickle\n",
    "\n",
    "import pandas as pd\n",
    "import numpy as np\n",
    "\n",
    "import matplotlib.pyplot as plt\n",
    "import seaborn as sns\n",
    "\n",
    "from torch.utils.data import DataLoader, Dataset\n",
    "import torch\n",
    "\n",
    "from scipy.stats import ttest_ind\n",
    "from scipy.stats import ttest_1samp\n",
    "from sklearn.metrics import accuracy_score"
   ]
  },
  {
   "cell_type": "markdown",
   "id": "83653407-2d19-4362-9532-d710af178917",
   "metadata": {},
   "source": [
    "# Import Data"
   ]
  },
  {
   "cell_type": "code",
   "execution_count": 2,
   "id": "784473a1-5fee-446e-9a04-b06006d9a224",
   "metadata": {},
   "outputs": [],
   "source": [
    "# df_users = pd.read_parquet('df_users_embedings.parquet')\n",
    "# df_posts = pd.read_parquet('df_posts_new_features.parquet')\n",
    "# df_target_0 = pd.read_parquet('df_target_0.parquet')\n",
    "# df_target_1 = pd.read_parquet('df_target_1.parquet')\n",
    "# df = pd.read_parquet(\"million_rows_raw_embedings.parquet\")\n",
    "df = pd.read_parquet(\"million_rows_new_features_raw.parquet\")"
   ]
  },
  {
   "cell_type": "markdown",
   "id": "d3a07c9c-850a-45e1-a512-b217c6e5c9c0",
   "metadata": {},
   "source": [
    "## Concat All Data In one DataFrame"
   ]
  },
  {
   "cell_type": "code",
   "execution_count": 5,
   "id": "dfe01b79-c1d6-42eb-8f26-40892f563f5c",
   "metadata": {},
   "outputs": [],
   "source": [
    "# def concat_df(df_users: pd.DataFrame, df_posts: pd.DataFrame, df_to_concat: pd.DataFrame) -> pd.DataFrame:\n",
    "#     df = df_to_concat.merge(df_posts, how='inner', on='post_id').merge(df_users, how='inner', left_on='user_id', right_on='id')\n",
    "#     df = df.drop(axis=1, columns=[\"id\", \"user_id\", \"post_id\", \"action\"])\n",
    "#     df = df.rename(columns={'timestamp':'time'})\n",
    "#     return df\n",
    "\n",
    "# df_concat_0 = concat_df(df_users, df_posts, df_target_0)\n",
    "# df_concat_1 = concat_df(df_users, df_posts, df_target_1)\n",
    "# df = pd.concat([df_concat_0, df_concat_1])"
   ]
  },
  {
   "cell_type": "code",
   "execution_count": 6,
   "id": "d1a049d2-2d39-429a-91a7-46d9cb39c662",
   "metadata": {},
   "outputs": [],
   "source": [
    "# df.to_parquet(\"million_rows_new_features_raw.parquet\")"
   ]
  },
  {
   "cell_type": "markdown",
   "id": "3a0659a4-aa56-4d15-a94c-c9c8a6450dd0",
   "metadata": {},
   "source": [
    "# Prepaire dataset"
   ]
  },
  {
   "cell_type": "code",
   "execution_count": 8,
   "id": "28f87eef-04b1-40e1-851d-d14ad7818fcf",
   "metadata": {},
   "outputs": [],
   "source": [
    "class CustomImageDataset(Dataset):\n",
    "    def __init__(self, df: pd.DataFrame):\n",
    "        self.df = df\n",
    "\n",
    "    def __len__(self):\n",
    "        return len(self.df)\n",
    "\n",
    "    def __getitem__(self, idx):\n",
    "        data = self.df.loc[idx]\n",
    "        target_label = data.iloc[1]\n",
    "        data_of_intersting = data.iloc[2:]\n",
    "        return torch.Tensor(data_of_intersting).unsqueeze(0), torch.Tensor([target_label])"
   ]
  },
  {
   "cell_type": "code",
   "execution_count": 9,
   "id": "dd005712-ea49-4e8f-a97b-c2d51f411e36",
   "metadata": {},
   "outputs": [],
   "source": [
    "index_train = df.sample(frac=0.7, random_state=2009).index.to_list()"
   ]
  },
  {
   "cell_type": "code",
   "execution_count": 10,
   "id": "518b82f0-b4df-4795-a02e-fd79f3d0e442",
   "metadata": {},
   "outputs": [],
   "source": [
    "df_train = df[df.index.isin(index_train)].reset_index(drop=True)\n",
    "df_test = df[~df.index.isin(index_train)].reset_index(drop=True)"
   ]
  },
  {
   "cell_type": "markdown",
   "id": "3aa41572-00f9-4657-8f1b-79bdf5092711",
   "metadata": {},
   "source": [
    "### Look At Target split"
   ]
  },
  {
   "cell_type": "code",
   "execution_count": 11,
   "id": "6864e279-f8c1-41f5-9b2f-9525a71d922e",
   "metadata": {},
   "outputs": [],
   "source": [
    "# target_mean_after = [df_test.target.sample(1000).mean() for i in range(10000)]"
   ]
  },
  {
   "cell_type": "code",
   "execution_count": 12,
   "id": "441b54f0-bd10-4155-b8f5-5d4a84758e2b",
   "metadata": {},
   "outputs": [],
   "source": [
    "# target_mean_before = [df_train.target.sample(1000).mean() for i in range(10000)]"
   ]
  },
  {
   "cell_type": "code",
   "execution_count": 13,
   "id": "2aee19cf-e9e9-46e3-b939-237e9a60d62d",
   "metadata": {},
   "outputs": [],
   "source": [
    "# ttest_ind(target_mean_after, target_mean_before)"
   ]
  },
  {
   "cell_type": "markdown",
   "id": "01211054-fc84-4a10-96ad-24214da0e076",
   "metadata": {},
   "source": [
    "## Load Custom Torch Dataset"
   ]
  },
  {
   "cell_type": "code",
   "execution_count": 14,
   "id": "b3b7a702-81f1-4824-bf54-f44858382f94",
   "metadata": {},
   "outputs": [],
   "source": [
    "test_data = CustomImageDataset(df=df_test)\n",
    "train_data = CustomImageDataset(df=df_train)"
   ]
  },
  {
   "cell_type": "code",
   "execution_count": 50,
   "id": "e5f62265-a667-4557-a571-9449d6d11c29",
   "metadata": {},
   "outputs": [
    {
     "data": {
      "text/plain": [
       "['time',\n",
       " 'target',\n",
       " 'topic_covid',\n",
       " 'topic_entertainment',\n",
       " 'topic_movie',\n",
       " 'topic_politics',\n",
       " 'topic_sport',\n",
       " 'topic_tech',\n",
       " 'kmean_label',\n",
       " 'DistanceToCluster_0',\n",
       " 'DistanceToCluster_1',\n",
       " 'DistanceToCluster_2',\n",
       " 'DistanceToCluster_3',\n",
       " 'DistanceToCluster_4',\n",
       " 'DistanceToCluster_5',\n",
       " 'DistanceToCluster_6',\n",
       " 'DistanceToCluster_7',\n",
       " 'DistanceToCluster_8',\n",
       " 'DistanceToCluster_9',\n",
       " 'DistanceToCluster_10',\n",
       " 'DistanceToCluster_11',\n",
       " 'DistanceToCluster_12',\n",
       " 'DistanceToCluster_13',\n",
       " 'DistanceToCluster_14',\n",
       " 'gender',\n",
       " 'age',\n",
       " 'Belarus',\n",
       " 'Cyprus',\n",
       " 'Estonia',\n",
       " 'Finland',\n",
       " 'Kazakhstan',\n",
       " 'Latvia',\n",
       " 'Russia',\n",
       " 'Switzerland',\n",
       " 'Turkey',\n",
       " 'Ukraine',\n",
       " 'exp_1',\n",
       " 'exp_2',\n",
       " 'exp_3',\n",
       " 'exp_4',\n",
       " 'Android',\n",
       " 'iOS',\n",
       " 'ads',\n",
       " 'organic']"
      ]
     },
     "execution_count": 50,
     "metadata": {},
     "output_type": "execute_result"
    }
   ],
   "source": [
    "df_test.columns.to_list()"
   ]
  },
  {
   "cell_type": "code",
   "execution_count": 15,
   "id": "6be2feea-34ef-46da-969e-0d02eaf523e4",
   "metadata": {},
   "outputs": [],
   "source": [
    "train_loader = DataLoader(train_data, batch_size=64, pin_memory=True, num_workers=6, shuffle=True)\n",
    "test_loader = DataLoader(test_data, batch_size=64, pin_memory=True, num_workers=6, shuffle=False)"
   ]
  },
  {
   "cell_type": "markdown",
   "id": "17efa147-7974-4bb9-bba9-b7dc7cb8a675",
   "metadata": {},
   "source": [
    "# Load Custom NN model"
   ]
  },
  {
   "cell_type": "code",
   "execution_count": 16,
   "id": "0cc0de4e-8ffe-482f-9af1-b99c0591977f",
   "metadata": {},
   "outputs": [],
   "source": [
    "import torch.nn as nn\n",
    "import torch\n",
    "\n",
    "from tqdm import tqdm\n",
    "from IPython.display import clear_output\n",
    "\n",
    "\n",
    "from torch.optim import Adam"
   ]
  },
  {
   "cell_type": "code",
   "execution_count": 17,
   "id": "4f03f5ae-bfc8-4d9c-896a-ade4c554352a",
   "metadata": {},
   "outputs": [],
   "source": [
    "class ResMLP_3Blocks(nn.Module):\n",
    "    def __init__(self, in_channels: int = 1, base_size: int = 42 , target_size: int = 1):\n",
    "        super().__init__()\n",
    "\n",
    "        self.activation_default = nn.PReLU()\n",
    "\n",
    "        self.FCNN_down_1 = nn.Sequential(\n",
    "            nn.Linear(base_size, base_size//2),\n",
    "            nn.BatchNorm1d(in_channels),\n",
    "            self.activation_default)\n",
    "\n",
    "        self.FCNN_1 = nn.Sequential(\n",
    "            nn.Linear(base_size//2, base_size//2),\n",
    "            nn.BatchNorm1d(in_channels),\n",
    "            self.activation_default,\n",
    "            nn.Dropout(0.4),\n",
    "\n",
    "            nn.Linear(base_size//2, base_size//2),\n",
    "            nn.BatchNorm1d(in_channels),\n",
    "            self.activation_default,\n",
    "            nn.Dropout(0.4),)\n",
    "\n",
    "        self.FCNN_down_2 = nn.Sequential(\n",
    "            nn.Linear(base_size//2, base_size//4),\n",
    "            nn.BatchNorm1d(in_channels),\n",
    "            self.activation_default)\n",
    "\n",
    "\n",
    "        self.FCNN_2 = nn.Sequential(\n",
    "            nn.Linear(base_size//4, base_size//4),\n",
    "            nn.BatchNorm1d(in_channels),\n",
    "            self.activation_default,\n",
    "            nn.Dropout(0.2),\n",
    "\n",
    "            nn.Linear(base_size//4, base_size//4),\n",
    "            nn.BatchNorm1d(in_channels),\n",
    "            self.activation_default,\n",
    "            nn.Dropout(0.2),)\n",
    "\n",
    "        self.FCNN_down_3 = nn.Sequential(\n",
    "            nn.Linear(base_size//4, base_size//8),\n",
    "            nn.BatchNorm1d(in_channels),\n",
    "            self.activation_default,\n",
    "            nn.Dropout(0.2),)\n",
    "\n",
    "        self.FCNN_3 = nn.Sequential(\n",
    "            nn.Linear(base_size//8, base_size//8),\n",
    "            nn.BatchNorm1d(in_channels),\n",
    "            self.activation_default,\n",
    "            nn.Dropout(0.1),\n",
    "\n",
    "            nn.Linear(base_size//8, base_size//8),\n",
    "            nn.BatchNorm1d(in_channels),\n",
    "            self.activation_default,\n",
    "            nn.Dropout(0.1),)\n",
    "\n",
    "        self.FCNN_down_4 = nn.Sequential(\n",
    "            nn.Linear(base_size//8, base_size//16),\n",
    "            nn.BatchNorm1d(in_channels),\n",
    "            self.activation_default,)\n",
    "            \n",
    "        self.out = nn.Sequential(\n",
    "            nn.Linear(base_size//16, target_size),\n",
    "            nn.Sigmoid(),\n",
    "        )\n",
    "\n",
    "    def forward(self, x):\n",
    "        x_1 = self.FCNN_down_1(x)\n",
    "        x_2 = self.FCNN_1(x_1)\n",
    "        x_3 = self.FCNN_down_2(x_2+x_1)\n",
    "        x_4 = self.FCNN_2(x_3)\n",
    "        x_5 = self.FCNN_down_3(x_4+x_3)\n",
    "        x_6 = self.FCNN_3(x_5)\n",
    "        x_7 = self.FCNN_down_4(x_6+x_5)\n",
    "        return self.out(x_7)"
   ]
  },
  {
   "cell_type": "markdown",
   "id": "827d7cf4-f8df-4c17-8cd1-17bc55941ffd",
   "metadata": {},
   "source": [
    "# Define Train and Test functions"
   ]
  },
  {
   "cell_type": "code",
   "execution_count": 18,
   "id": "268191e7-4d02-440c-a5eb-eca6d1bd0b2d",
   "metadata": {},
   "outputs": [],
   "source": [
    "from sklearn.metrics import accuracy_score"
   ]
  },
  {
   "cell_type": "code",
   "execution_count": 19,
   "id": "5598fd6b-daef-46f2-83af-c5ce94c48adb",
   "metadata": {},
   "outputs": [],
   "source": [
    "def train(model):\n",
    "    model.train()\n",
    "\n",
    "    train_loss = []\n",
    "    accuracy = []\n",
    "    for x, y in tqdm(train_loader, desc='Train'):\n",
    "        \n",
    "        x = x.to(device)\n",
    "        y = y.to(device)\n",
    "\n",
    "        optimizer.zero_grad()\n",
    "\n",
    "        output = model(x).squeeze(1)\n",
    "\n",
    "\n",
    "        loss = loss_fn(output, y)\n",
    "\n",
    "        #как ты делишь?!\n",
    "        # a = y.view(x.shape[0]).detach().to(\"cpu\")\n",
    "        # b = torch.round(output.view(x.shape[0]).to(\"cpu\")).detach()\n",
    "        # accuracy += (1-((a - b).sum())/x.shape[0]).item()*100\n",
    "        a = y.view(x.shape[0]).to(\"cpu\").detach()\n",
    "        b = torch.round(output.view(x.shape[0])).to(\"cpu\").detach()\n",
    "        \n",
    "        accuracy.append(accuracy_score(a, b))\n",
    "        train_loss.append(loss.detach().item())\n",
    "\n",
    "        loss.backward()\n",
    "        optimizer.step()\n",
    "        \n",
    "        del loss\n",
    "        del output\n",
    "\n",
    "    train_loss = np.mean(train_loss)\n",
    "    accuracy = np.mean(accuracy)\n",
    "\n",
    "    return train_loss, accuracy"
   ]
  },
  {
   "cell_type": "code",
   "execution_count": 20,
   "id": "6fe9fc89-3b69-4bed-a675-78a32c6951eb",
   "metadata": {},
   "outputs": [],
   "source": [
    "@torch.inference_mode()\n",
    "def evaluate(model, loader):\n",
    "    model.eval()\n",
    "\n",
    "    total_loss = []\n",
    "    accuracy = []\n",
    "    \n",
    "    for x, y in tqdm(loader, desc='Evaluation'):\n",
    "        x = x.to(device)\n",
    "        y = y.to(device)\n",
    "        output = model(x).squeeze(1)\n",
    "\n",
    "        loss = loss_fn(output, y)\n",
    "\n",
    "        a = y.view(x.shape[0]).to(\"cpu\").detach()\n",
    "        b = torch.round(output.view(x.shape[0])).to(\"cpu\").detach()\n",
    "        \n",
    "        accuracy.append(accuracy_score(a, b))\n",
    "        total_loss.append(loss.detach().item())\n",
    "        \n",
    "        # total_loss += loss.detach().item()\n",
    "\n",
    "        del loss\n",
    "        del output\n",
    "        \n",
    "    total_loss = np.mean(total_loss)\n",
    "    accuracy = np.mean(accuracy)\n",
    "    \n",
    "    return total_loss, accuracy"
   ]
  },
  {
   "cell_type": "code",
   "execution_count": 21,
   "id": "b73ebdae-34f3-4894-a102-4650f0510989",
   "metadata": {},
   "outputs": [],
   "source": [
    "def plot_stats(\n",
    "    train_loss: list[float],\n",
    "    valid_loss: list[float],\n",
    "    title: str\n",
    "):\n",
    "    plt.figure(figsize=(16, 8))\n",
    "\n",
    "    plt.title(title + ' loss')\n",
    "\n",
    "    plt.plot(train_loss, label='Train loss')\n",
    "    plt.plot(valid_loss, label='Test loss')\n",
    "    plt.legend()\n",
    "    plt.grid()\n",
    "\n",
    "    plt.show()"
   ]
  },
  {
   "cell_type": "code",
   "execution_count": 22,
   "id": "e18c2879-7803-4010-9403-2c6bd8f4a22f",
   "metadata": {},
   "outputs": [],
   "source": [
    "def whole_train_valid_cycle(model, num_epochs, title):\n",
    "    train_loss_history, valid_loss_history = [], []\n",
    "    train_accuracy_history, valid_accuracy_history = [], []\n",
    "\n",
    "    for epoch in range(num_epochs):\n",
    "        train_loss, train_accuracy_loss = train(model)\n",
    "        valid_loss, valid_accuracy_loss = evaluate(model, test_loader)\n",
    "\n",
    "        train_loss_history.append(train_loss)\n",
    "        valid_loss_history.append(valid_loss)\n",
    "\n",
    "        train_accuracy_history.append(train_accuracy_loss)\n",
    "        valid_accuracy_history.append(valid_accuracy_loss)\n",
    "\n",
    "        clear_output(wait=True)\n",
    "\n",
    "        print(f\"Train Accuracy: {train_accuracy_loss} %\")\n",
    "        print(f\"Test Accuracy: {valid_accuracy_loss} %\")\n",
    "        plot_stats(\n",
    "            train_loss_history, valid_loss_history,\n",
    "            title\n",
    "        )"
   ]
  },
  {
   "cell_type": "code",
   "execution_count": 23,
   "id": "59538b80-7104-44a1-a50f-5002367a07c3",
   "metadata": {},
   "outputs": [
    {
     "name": "stdout",
     "output_type": "stream",
     "text": [
      "cuda:0\n"
     ]
    }
   ],
   "source": [
    "device = torch.device('cuda:0' if torch.cuda.is_available() else 'cpu')\n",
    "print(device)\n",
    "\n",
    "loss_fn = nn.BCELoss()\n",
    "#loss_fn = nn.MSELoss()"
   ]
  },
  {
   "cell_type": "code",
   "execution_count": 24,
   "id": "4e3a8a30-c509-4c61-bc42-04436215f8db",
   "metadata": {},
   "outputs": [],
   "source": [
    "model = ResMLP_3Blocks().to(device)\n",
    "optimizer = Adam(model.parameters(), lr=1e-1)"
   ]
  },
  {
   "cell_type": "code",
   "execution_count": 25,
   "id": "f268cfd4-f71d-49a0-b6c7-e72b30daa58a",
   "metadata": {},
   "outputs": [
    {
     "name": "stdout",
     "output_type": "stream",
     "text": [
      "Train Accuracy: 0.6502516370798588 %\n",
      "Test Accuracy: 0.649675468591692 %\n"
     ]
    },
    {
     "data": {
      "image/png": "[encoded data removed]",
      "text/plain": [
       "<Figure size 1600x800 with 1 Axes>"
      ]
     },
     "metadata": {},
     "output_type": "display_data"
    },
    {
     "name": "stderr",
     "output_type": "stream",
     "text": [
      "Train:   0%|                                                                                                                           | 0/14216 [00:00<?, ?it/s]/tmp/ipykernel_5022/1619074521.py:12: FutureWarning: Series.__getitem__ treating keys as positions is deprecated. In a future version, integer keys will always be treated as labels (consistent with DataFrame behavior). To access a value by position, use `ser.iloc[pos]`\n",
      "  return torch.Tensor(data_of_intersting).unsqueeze(0), torch.Tensor([target_label])\n",
      "/tmp/ipykernel_5022/1619074521.py:12: FutureWarning: Series.__getitem__ treating keys as positions is deprecated. In a future version, integer keys will always be treated as labels (consistent with DataFrame behavior). To access a value by position, use `ser.iloc[pos]`\n",
      "  return torch.Tensor(data_of_intersting).unsqueeze(0), torch.Tensor([target_label])\n",
      "/tmp/ipykernel_5022/1619074521.py:12: FutureWarning: Series.__getitem__ treating keys as positions is deprecated. In a future version, integer keys will always be treated as labels (consistent with DataFrame behavior). To access a value by position, use `ser.iloc[pos]`\n",
      "  return torch.Tensor(data_of_intersting).unsqueeze(0), torch.Tensor([target_label])\n",
      "/tmp/ipykernel_5022/1619074521.py:12: FutureWarning: Series.__getitem__ treating keys as positions is deprecated. In a future version, integer keys will always be treated as labels (consistent with DataFrame behavior). To access a value by position, use `ser.iloc[pos]`\n",
      "  return torch.Tensor(data_of_intersting).unsqueeze(0), torch.Tensor([target_label])\n",
      "/tmp/ipykernel_5022/1619074521.py:12: FutureWarning: Series.__getitem__ treating keys as positions is deprecated. In a future version, integer keys will always be treated as labels (consistent with DataFrame behavior). To access a value by position, use `ser.iloc[pos]`\n",
      "  return torch.Tensor(data_of_intersting).unsqueeze(0), torch.Tensor([target_label])\n",
      "/tmp/ipykernel_5022/1619074521.py:12: FutureWarning: Series.__getitem__ treating keys as positions is deprecated. In a future version, integer keys will always be treated as labels (consistent with DataFrame behavior). To access a value by position, use `ser.iloc[pos]`\n",
      "  return torch.Tensor(data_of_intersting).unsqueeze(0), torch.Tensor([target_label])\n",
      "Train:   4%|████▉                                                                                                           | 619/14216 [00:04<01:33, 146.09it/s]\n"
     ]
    },
    {
     "ename": "KeyboardInterrupt",
     "evalue": "",
     "output_type": "error",
     "traceback": [
      "\u001b[0;31m---------------------------------------------------------------------------\u001b[0m",
      "\u001b[0;31mKeyboardInterrupt\u001b[0m                         Traceback (most recent call last)",
      "Cell \u001b[0;32mIn[25], line 1\u001b[0m\n\u001b[0;32m----> 1\u001b[0m \u001b[43mwhole_train_valid_cycle\u001b[49m\u001b[43m(\u001b[49m\u001b[43mmodel\u001b[49m\u001b[43m,\u001b[49m\u001b[43m \u001b[49m\u001b[38;5;241;43m100\u001b[39;49m\u001b[43m,\u001b[49m\u001b[43m \u001b[49m\u001b[38;5;124;43m'\u001b[39;49m\u001b[38;5;124;43mCustomResidualFCN_2024\u001b[39;49m\u001b[38;5;124;43m'\u001b[39;49m\u001b[43m)\u001b[49m\n",
      "Cell \u001b[0;32mIn[22], line 6\u001b[0m, in \u001b[0;36mwhole_train_valid_cycle\u001b[0;34m(model, num_epochs, title)\u001b[0m\n\u001b[1;32m      3\u001b[0m train_accuracy_history, valid_accuracy_history \u001b[38;5;241m=\u001b[39m [], []\n\u001b[1;32m      5\u001b[0m \u001b[38;5;28;01mfor\u001b[39;00m epoch \u001b[38;5;129;01min\u001b[39;00m \u001b[38;5;28mrange\u001b[39m(num_epochs):\n\u001b[0;32m----> 6\u001b[0m     train_loss, train_accuracy_loss \u001b[38;5;241m=\u001b[39m \u001b[43mtrain\u001b[49m\u001b[43m(\u001b[49m\u001b[43mmodel\u001b[49m\u001b[43m)\u001b[49m\n\u001b[1;32m      7\u001b[0m     valid_loss, valid_accuracy_loss \u001b[38;5;241m=\u001b[39m evaluate(model, test_loader)\n\u001b[1;32m      9\u001b[0m     train_loss_history\u001b[38;5;241m.\u001b[39mappend(train_loss)\n",
      "Cell \u001b[0;32mIn[19], line 28\u001b[0m, in \u001b[0;36mtrain\u001b[0;34m(model)\u001b[0m\n\u001b[1;32m     25\u001b[0m accuracy\u001b[38;5;241m.\u001b[39mappend(accuracy_score(a, b))\n\u001b[1;32m     26\u001b[0m train_loss\u001b[38;5;241m.\u001b[39mappend(loss\u001b[38;5;241m.\u001b[39mdetach()\u001b[38;5;241m.\u001b[39mitem())\n\u001b[0;32m---> 28\u001b[0m \u001b[43mloss\u001b[49m\u001b[38;5;241;43m.\u001b[39;49m\u001b[43mbackward\u001b[49m\u001b[43m(\u001b[49m\u001b[43m)\u001b[49m\n\u001b[1;32m     29\u001b[0m optimizer\u001b[38;5;241m.\u001b[39mstep()\n\u001b[1;32m     31\u001b[0m \u001b[38;5;28;01mdel\u001b[39;00m loss\n",
      "File \u001b[0;32m~/.local/lib/python3.10/site-packages/torch/_tensor.py:492\u001b[0m, in \u001b[0;36mTensor.backward\u001b[0;34m(self, gradient, retain_graph, create_graph, inputs)\u001b[0m\n\u001b[1;32m    482\u001b[0m \u001b[38;5;28;01mif\u001b[39;00m has_torch_function_unary(\u001b[38;5;28mself\u001b[39m):\n\u001b[1;32m    483\u001b[0m     \u001b[38;5;28;01mreturn\u001b[39;00m handle_torch_function(\n\u001b[1;32m    484\u001b[0m         Tensor\u001b[38;5;241m.\u001b[39mbackward,\n\u001b[1;32m    485\u001b[0m         (\u001b[38;5;28mself\u001b[39m,),\n\u001b[0;32m   (...)\u001b[0m\n\u001b[1;32m    490\u001b[0m         inputs\u001b[38;5;241m=\u001b[39minputs,\n\u001b[1;32m    491\u001b[0m     )\n\u001b[0;32m--> 492\u001b[0m \u001b[43mtorch\u001b[49m\u001b[38;5;241;43m.\u001b[39;49m\u001b[43mautograd\u001b[49m\u001b[38;5;241;43m.\u001b[39;49m\u001b[43mbackward\u001b[49m\u001b[43m(\u001b[49m\n\u001b[1;32m    493\u001b[0m \u001b[43m    \u001b[49m\u001b[38;5;28;43mself\u001b[39;49m\u001b[43m,\u001b[49m\u001b[43m \u001b[49m\u001b[43mgradient\u001b[49m\u001b[43m,\u001b[49m\u001b[43m \u001b[49m\u001b[43mretain_graph\u001b[49m\u001b[43m,\u001b[49m\u001b[43m \u001b[49m\u001b[43mcreate_graph\u001b[49m\u001b[43m,\u001b[49m\u001b[43m \u001b[49m\u001b[43minputs\u001b[49m\u001b[38;5;241;43m=\u001b[39;49m\u001b[43minputs\u001b[49m\n\u001b[1;32m    494\u001b[0m \u001b[43m\u001b[49m\u001b[43m)\u001b[49m\n",
      "File \u001b[0;32m~/.local/lib/python3.10/site-packages/torch/autograd/__init__.py:251\u001b[0m, in \u001b[0;36mbackward\u001b[0;34m(tensors, grad_tensors, retain_graph, create_graph, grad_variables, inputs)\u001b[0m\n\u001b[1;32m    246\u001b[0m     retain_graph \u001b[38;5;241m=\u001b[39m create_graph\n\u001b[1;32m    248\u001b[0m \u001b[38;5;66;03m# The reason we repeat the same comment below is that\u001b[39;00m\n\u001b[1;32m    249\u001b[0m \u001b[38;5;66;03m# some Python versions print out the first line of a multi-line function\u001b[39;00m\n\u001b[1;32m    250\u001b[0m \u001b[38;5;66;03m# calls in the traceback and some print out the last line\u001b[39;00m\n\u001b[0;32m--> 251\u001b[0m \u001b[43mVariable\u001b[49m\u001b[38;5;241;43m.\u001b[39;49m\u001b[43m_execution_engine\u001b[49m\u001b[38;5;241;43m.\u001b[39;49m\u001b[43mrun_backward\u001b[49m\u001b[43m(\u001b[49m\u001b[43m  \u001b[49m\u001b[38;5;66;43;03m# Calls into the C++ engine to run the backward pass\u001b[39;49;00m\n\u001b[1;32m    252\u001b[0m \u001b[43m    \u001b[49m\u001b[43mtensors\u001b[49m\u001b[43m,\u001b[49m\n\u001b[1;32m    253\u001b[0m \u001b[43m    \u001b[49m\u001b[43mgrad_tensors_\u001b[49m\u001b[43m,\u001b[49m\n\u001b[1;32m    254\u001b[0m \u001b[43m    \u001b[49m\u001b[43mretain_graph\u001b[49m\u001b[43m,\u001b[49m\n\u001b[1;32m    255\u001b[0m \u001b[43m    \u001b[49m\u001b[43mcreate_graph\u001b[49m\u001b[43m,\u001b[49m\n\u001b[1;32m    256\u001b[0m \u001b[43m    \u001b[49m\u001b[43minputs\u001b[49m\u001b[43m,\u001b[49m\n\u001b[1;32m    257\u001b[0m \u001b[43m    \u001b[49m\u001b[43mallow_unreachable\u001b[49m\u001b[38;5;241;43m=\u001b[39;49m\u001b[38;5;28;43;01mTrue\u001b[39;49;00m\u001b[43m,\u001b[49m\n\u001b[1;32m    258\u001b[0m \u001b[43m    \u001b[49m\u001b[43maccumulate_grad\u001b[49m\u001b[38;5;241;43m=\u001b[39;49m\u001b[38;5;28;43;01mTrue\u001b[39;49;00m\u001b[43m,\u001b[49m\n\u001b[1;32m    259\u001b[0m \u001b[43m\u001b[49m\u001b[43m)\u001b[49m\n",
      "\u001b[0;31mKeyboardInterrupt\u001b[0m: "
     ]
    }
   ],
   "source": [
    "whole_train_valid_cycle(model, 100, 'CustomResidualFCN_2024')"
   ]
  },
  {
   "cell_type": "markdown",
   "id": "c482ab51-1d24-4a59-8118-d6405cb5f6cd",
   "metadata": {},
   "source": [
    "# Check Model Results"
   ]
  },
  {
   "cell_type": "code",
   "execution_count": 26,
   "id": "32164fed-b0ff-4f07-a374-beb9ebec0783",
   "metadata": {},
   "outputs": [],
   "source": [
    "from sklearn.metrics import accuracy_score\n",
    "from sklearn.metrics import f1_score\n",
    "from sklearn.metrics import classification_report\n",
    "from sklearn.metrics import roc_auc_score\n",
    "\n",
    "from sklearn import metrics"
   ]
  },
  {
   "cell_type": "code",
   "execution_count": 27,
   "id": "86174852-d10a-41bf-830e-03a964de3737",
   "metadata": {},
   "outputs": [],
   "source": [
    "# model = ResMLP_3Blocks()\n",
    "# model.load_state_dict(torch.load('CustomResidualFCN_2024'))\n",
    "# model.eval()"
   ]
  },
  {
   "cell_type": "code",
   "execution_count": 28,
   "id": "75fb0752-2631-4452-a50f-1039a0767c45",
   "metadata": {},
   "outputs": [],
   "source": [
    "@torch.inference_mode()\n",
    "def predict(model, loader):\n",
    "    model.eval()\n",
    "    \n",
    "\n",
    "    pred_list = []\n",
    "    original_list = []\n",
    "    for x, y in tqdm(loader, desc='Prediction'):\n",
    "        x = x.to(\"cuda:0\")\n",
    "        y = y.to(\"cuda:0\")\n",
    "        \n",
    "        preds = model(x)\n",
    "\n",
    "        pred_list.extend(preds.view(x.shape[0]).to(\"cpu\").detach().numpy())\n",
    "        original_list.extend(y.view(y.shape[0]).to(\"cpu\").detach().numpy())\n",
    "    return pred_list, original_list"
   ]
  },
  {
   "cell_type": "code",
   "execution_count": 29,
   "id": "da6f840b-4e67-4083-a877-84e3637fc54b",
   "metadata": {},
   "outputs": [],
   "source": [
    "# model = model.to(\"cuda\")"
   ]
  },
  {
   "cell_type": "code",
   "execution_count": 30,
   "id": "470b8885-d51e-4209-b39f-f6f2eeaf125c",
   "metadata": {},
   "outputs": [
    {
     "name": "stderr",
     "output_type": "stream",
     "text": [
      "Prediction:   0%|                                                                                                                       | 0/1410 [00:00<?, ?it/s]/tmp/ipykernel_5022/1619074521.py:12: FutureWarning: Series.__getitem__ treating keys as positions is deprecated. In a future version, integer keys will always be treated as labels (consistent with DataFrame behavior). To access a value by position, use `ser.iloc[pos]`\n",
      "  return torch.Tensor(data_of_intersting).unsqueeze(0), torch.Tensor([target_label])\n",
      "/tmp/ipykernel_5022/1619074521.py:12: FutureWarning: Series.__getitem__ treating keys as positions is deprecated. In a future version, integer keys will always be treated as labels (consistent with DataFrame behavior). To access a value by position, use `ser.iloc[pos]`\n",
      "  return torch.Tensor(data_of_intersting).unsqueeze(0), torch.Tensor([target_label])\n",
      "/tmp/ipykernel_5022/1619074521.py:12: FutureWarning: Series.__getitem__ treating keys as positions is deprecated. In a future version, integer keys will always be treated as labels (consistent with DataFrame behavior). To access a value by position, use `ser.iloc[pos]`\n",
      "  return torch.Tensor(data_of_intersting).unsqueeze(0), torch.Tensor([target_label])\n",
      "/tmp/ipykernel_5022/1619074521.py:12: FutureWarning: Series.__getitem__ treating keys as positions is deprecated. In a future version, integer keys will always be treated as labels (consistent with DataFrame behavior). To access a value by position, use `ser.iloc[pos]`\n",
      "  return torch.Tensor(data_of_intersting).unsqueeze(0), torch.Tensor([target_label])\n",
      "/tmp/ipykernel_5022/1619074521.py:12: FutureWarning: Series.__getitem__ treating keys as positions is deprecated. In a future version, integer keys will always be treated as labels (consistent with DataFrame behavior). To access a value by position, use `ser.iloc[pos]`\n",
      "  return torch.Tensor(data_of_intersting).unsqueeze(0), torch.Tensor([target_label])\n",
      "/tmp/ipykernel_5022/1619074521.py:12: FutureWarning: Series.__getitem__ treating keys as positions is deprecated. In a future version, integer keys will always be treated as labels (consistent with DataFrame behavior). To access a value by position, use `ser.iloc[pos]`\n",
      "  return torch.Tensor(data_of_intersting).unsqueeze(0), torch.Tensor([target_label])\n",
      "Prediction: 100%|███████████████████████████████████████████████████████████████████████████████████████████████████████████| 1410/1410 [00:04<00:00, 300.03it/s]\n"
     ]
    }
   ],
   "source": [
    "preds, origins = predict(model, test_loader)"
   ]
  },
  {
   "cell_type": "code",
   "execution_count": 31,
   "id": "f794ddb2-8227-44bb-a67b-6ece92195ed9",
   "metadata": {},
   "outputs": [],
   "source": [
    "def round_preds(preds):\n",
    "    return [round(x) for x in preds]"
   ]
  },
  {
   "cell_type": "code",
   "execution_count": 32,
   "id": "f3fd13bc-ccc5-4973-80dd-9f5dc568cac4",
   "metadata": {},
   "outputs": [],
   "source": [
    "preds_binary = round_preds(preds)"
   ]
  },
  {
   "cell_type": "code",
   "execution_count": 33,
   "id": "aac08889-384c-436e-a0d8-580c2c7a9d84",
   "metadata": {},
   "outputs": [
    {
     "name": "stdout",
     "output_type": "stream",
     "text": [
      "              precision    recall  f1-score   support\n",
      "\n",
      "         0.0       0.67      0.66      0.66     45109\n",
      "         1.0       0.66      0.67      0.67     45109\n",
      "\n",
      "    accuracy                           0.66     90218\n",
      "   macro avg       0.66      0.66      0.66     90218\n",
      "weighted avg       0.66      0.66      0.66     90218\n",
      "\n"
     ]
    }
   ],
   "source": [
    "print(classification_report(origins,preds_binary))"
   ]
  },
  {
   "cell_type": "code",
   "execution_count": 34,
   "id": "b2c7ed45-b44e-4768-ba25-ac743ad8016d",
   "metadata": {},
   "outputs": [
    {
     "data": {
      "image/png": "[encoded data removed]",
      "text/plain": [
       "<Figure size 640x480 with 1 Axes>"
      ]
     },
     "metadata": {},
     "output_type": "display_data"
    }
   ],
   "source": [
    "t = metrics.RocCurveDisplay.from_predictions(origins, preds)"
   ]
  },
  {
   "cell_type": "code",
   "execution_count": 35,
   "id": "27ba2746-eafe-4dd8-9600-9523a9dc747a",
   "metadata": {},
   "outputs": [],
   "source": [
    "fpr, tpr, thresholds = metrics.roc_curve(origins, preds, pos_label=1)"
   ]
  },
  {
   "cell_type": "code",
   "execution_count": 36,
   "id": "e40cce32-dd3f-4406-b5ff-7f712e45bab1",
   "metadata": {},
   "outputs": [
    {
     "data": {
      "text/plain": [
       "0.51403457"
      ]
     },
     "execution_count": 36,
     "metadata": {},
     "output_type": "execute_result"
    }
   ],
   "source": [
    "thresholds[16370]"
   ]
  },
  {
   "cell_type": "code",
   "execution_count": null,
   "id": "61378d99-646f-497f-bbd5-383547a9e7fd",
   "metadata": {},
   "outputs": [],
   "source": []
  },
  {
   "cell_type": "code",
   "execution_count": 37,
   "id": "de7b2309-2ebb-46c6-9d67-7adafbc711ff",
   "metadata": {},
   "outputs": [
    {
     "data": {
      "text/plain": [
       "(array([25030, 25031, 25032, ..., 37616, 37617, 37618]),)"
      ]
     },
     "execution_count": 37,
     "metadata": {},
     "output_type": "execute_result"
    }
   ],
   "source": [
    "np.where(tpr > 0.8)"
   ]
  },
  {
   "cell_type": "code",
   "execution_count": 47,
   "id": "5376236a-3aee-4ea4-af55-40167424b7ec",
   "metadata": {},
   "outputs": [],
   "source": [
    "mean_preds_list = [np.mean(np.random.choice(preds, size=1000).round()) for i in range(10000)]"
   ]
  },
  {
   "cell_type": "code",
   "execution_count": 48,
   "id": "fed24c19-2f48-4e80-8c2a-88c06d3e1982",
   "metadata": {},
   "outputs": [],
   "source": [
    "mean_origin_list = [np.mean(np.random.choice(origins, size=1000).round()) for i in range(10000)]"
   ]
  },
  {
   "cell_type": "code",
   "execution_count": 49,
   "id": "13a9ddfd-089c-4ab3-b252-4aea8a59e6dd",
   "metadata": {},
   "outputs": [
    {
     "data": {
      "text/plain": [
       "<matplotlib.legend.Legend at 0x7f4343897dc0>"
      ]
     },
     "execution_count": 49,
     "metadata": {},
     "output_type": "execute_result"
    },
    {
     "data": {
      "image/png": "[encoded data removed]",
      "text/plain": [
       "<Figure size 640x480 with 1 Axes>"
      ]
     },
     "metadata": {},
     "output_type": "display_data"
    }
   ],
   "source": [
    "plt.hist(mean_origin_list, label='origins')\n",
    "plt.hist(mean_preds_list, label='preds')\n",
    "plt.legend()"
   ]
  },
  {
   "cell_type": "code",
   "execution_count": 54,
   "id": "19ebce2e-084e-42af-b265-15987e697f11",
   "metadata": {},
   "outputs": [
    {
     "data": {
      "text/plain": [
       "TtestResult(statistic=-492.04536459011445, pvalue=0.0, df=19998.0)"
      ]
     },
     "execution_count": 54,
     "metadata": {},
     "output_type": "execute_result"
    }
   ],
   "source": [
    "ttest_ind(mean_origin_list, mean_preds_list)"
   ]
  },
  {
   "cell_type": "code",
   "execution_count": 55,
   "id": "525f6d8f-8614-45fa-b33c-150aa895914e",
   "metadata": {},
   "outputs": [
    {
     "data": {
      "text/plain": [
       "0.500331"
      ]
     },
     "execution_count": 55,
     "metadata": {},
     "output_type": "execute_result"
    }
   ],
   "source": [
    "np.mean(mean_origin_list)"
   ]
  },
  {
   "cell_type": "code",
   "execution_count": 56,
   "id": "174c6222-c838-4de8-9ec1-40cae6353dd5",
   "metadata": {},
   "outputs": [
    {
     "data": {
      "text/plain": [
       "TtestResult(statistic=708.0795932499602, pvalue=0.0, df=9999)"
      ]
     },
     "execution_count": 56,
     "metadata": {},
     "output_type": "execute_result"
    }
   ],
   "source": [
    "ttest_1samp(mean_preds_list, np.mean(mean_origin_list))"
   ]
  },
  {
   "cell_type": "code",
   "execution_count": 38,
   "id": "4ac9f219-4405-4a3f-8f45-9548a1e06775",
   "metadata": {},
   "outputs": [
    {
     "data": {
      "text/plain": [
       "[<matplotlib.lines.Line2D at 0x7fc4eb503760>]"
      ]
     },
     "execution_count": 38,
     "metadata": {},
     "output_type": "execute_result"
    },
    {
     "data": {
      "image/png": "[encoded data removed]",
      "text/plain": [
       "<Figure size 640x480 with 1 Axes>"
      ]
     },
     "metadata": {},
     "output_type": "display_data"
    }
   ],
   "source": [
    "plt.plot(sorted(preds))"
   ]
  },
  {
   "cell_type": "markdown",
   "id": "a776b123-1cd8-4246-86e9-f29e4f7fa66e",
   "metadata": {},
   "source": [
    "## Save model"
   ]
  },
  {
   "cell_type": "code",
   "execution_count": 53,
   "id": "18d0f474-c2ce-485c-950c-dffde0d0d7d0",
   "metadata": {},
   "outputs": [],
   "source": [
    "# # Saving model\n",
    "# model_scripted = torch.jit.script(model.to(\"cpu\")) # Export to TorchScript\n",
    "# model_scripted.save(\"CustomResidualNN_2024_CPU.pth\") # Save\n",
    "\n",
    "# # Loading model\n",
    "# model = torch.jit.load(\"CustomResidualNN_2024.pth\")\n",
    "# model.eval()"
   ]
  },
  {
   "cell_type": "code",
   "execution_count": null,
   "id": "bcb413b6-a25e-4e65-91fb-b42fee9fd85b",
   "metadata": {},
   "outputs": [],
   "source": []
  }
 ],
 "metadata": {
  "kernelspec": {
   "display_name": "Python 3 (ipykernel)",
   "language": "python",
   "name": "python3"
  },
  "language_info": {
   "codemirror_mode": {
    "name": "ipython",
    "version": 3
   },
   "file_extension": ".py",
   "mimetype": "text/x-python",
   "name": "python",
   "nbconvert_exporter": "python",
   "pygments_lexer": "ipython3",
   "version": "3.10.12"
  }
 },
 "nbformat": 4,
 "nbformat_minor": 5
}
