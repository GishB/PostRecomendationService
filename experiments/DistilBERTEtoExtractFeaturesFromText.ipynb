{
 "cells": [
  {
   "cell_type": "markdown",
   "id": "e48f87e4-2b92-408d-b697-7f9fffd650e8",
   "metadata": {},
   "source": [
    "#### Note:\n",
    "    Check how BERT convert data"
   ]
  },
  {
   "cell_type": "markdown",
   "id": "3c0f2b29-8042-447d-af85-d47866e41f97",
   "metadata": {},
   "source": [
    "# Import libs"
   ]
  },
  {
   "cell_type": "code",
   "execution_count": 59,
   "id": "bf75f4a1-c51b-4092-9aca-bc5b07991ab7",
   "metadata": {},
   "outputs": [],
   "source": [
    "import os, sys\n",
    "import pickle\n",
    "\n",
    "import pandas as pd\n",
    "import numpy as np\n",
    "from joblib import dump, load\n",
    "from sqlalchemy import create_engine\n",
    "from torch.optim import Adam\n",
    "\n",
    "from others.database import SessionLocal, engine\n",
    "\n",
    "\n",
    "import matplotlib.pyplot as plt\n",
    "import seaborn as sns"
   ]
  },
  {
   "cell_type": "markdown",
   "id": "5e50ee0d-a751-4e90-9a3e-a681f9fab633",
   "metadata": {},
   "source": [
    "# Load general data"
   ]
  },
  {
   "cell_type": "code",
   "execution_count": 2,
   "id": "d79773e6-f57e-4e1a-a5b6-1e53576abcf8",
   "metadata": {},
   "outputs": [],
   "source": [
    "df_users = pd.read_parquet(\"../data/parquet_user_default_data.parquet\")\n",
    "df_posts = pd.read_parquet('../data/df_post_text_features_save_november_2023.parquet')"
   ]
  },
  {
   "cell_type": "markdown",
   "id": "151e40ae-dbd5-4369-b49d-2892cc985cb5",
   "metadata": {},
   "source": [
    "# Transform general data"
   ]
  },
  {
   "cell_type": "markdown",
   "id": "5be479e0-00e7-406f-a128-5da296c5b8b0",
   "metadata": {},
   "source": [
    "#### Transform post data"
   ]
  },
  {
   "cell_type": "markdown",
   "id": "e9951d49-42a3-460e-bb0b-bc9cbfdbd2aa",
   "metadata": {},
   "source": [
    "##### TOPIC"
   ]
  },
  {
   "cell_type": "code",
   "execution_count": 3,
   "id": "639b5960-0453-4a47-92fc-0ad60a24babd",
   "metadata": {},
   "outputs": [],
   "source": [
    "dummy_topics = pd.get_dummies(df_posts[['topic']], drop_first=True)"
   ]
  },
  {
   "cell_type": "code",
   "execution_count": 4,
   "id": "419b86c3-09f4-434b-b887-79a4430b559a",
   "metadata": {},
   "outputs": [
    {
     "data": {
      "text/html": [
       "<div>\n",
       "<style scoped>\n",
       "    .dataframe tbody tr th:only-of-type {\n",
       "        vertical-align: middle;\n",
       "    }\n",
       "\n",
       "    .dataframe tbody tr th {\n",
       "        vertical-align: top;\n",
       "    }\n",
       "\n",
       "    .dataframe thead th {\n",
       "        text-align: right;\n",
       "    }\n",
       "</style>\n",
       "<table border=\"1\" class=\"dataframe\">\n",
       "  <thead>\n",
       "    <tr style=\"text-align: right;\">\n",
       "      <th></th>\n",
       "      <th>topic_covid</th>\n",
       "      <th>topic_entertainment</th>\n",
       "      <th>topic_movie</th>\n",
       "      <th>topic_politics</th>\n",
       "      <th>topic_sport</th>\n",
       "      <th>topic_tech</th>\n",
       "    </tr>\n",
       "  </thead>\n",
       "  <tbody>\n",
       "    <tr>\n",
       "      <th>0</th>\n",
       "      <td>False</td>\n",
       "      <td>False</td>\n",
       "      <td>False</td>\n",
       "      <td>False</td>\n",
       "      <td>False</td>\n",
       "      <td>False</td>\n",
       "    </tr>\n",
       "    <tr>\n",
       "      <th>1</th>\n",
       "      <td>False</td>\n",
       "      <td>False</td>\n",
       "      <td>False</td>\n",
       "      <td>False</td>\n",
       "      <td>False</td>\n",
       "      <td>False</td>\n",
       "    </tr>\n",
       "    <tr>\n",
       "      <th>2</th>\n",
       "      <td>False</td>\n",
       "      <td>False</td>\n",
       "      <td>False</td>\n",
       "      <td>False</td>\n",
       "      <td>False</td>\n",
       "      <td>False</td>\n",
       "    </tr>\n",
       "    <tr>\n",
       "      <th>3</th>\n",
       "      <td>False</td>\n",
       "      <td>False</td>\n",
       "      <td>False</td>\n",
       "      <td>False</td>\n",
       "      <td>False</td>\n",
       "      <td>False</td>\n",
       "    </tr>\n",
       "    <tr>\n",
       "      <th>4</th>\n",
       "      <td>False</td>\n",
       "      <td>False</td>\n",
       "      <td>False</td>\n",
       "      <td>False</td>\n",
       "      <td>False</td>\n",
       "      <td>False</td>\n",
       "    </tr>\n",
       "    <tr>\n",
       "      <th>...</th>\n",
       "      <td>...</td>\n",
       "      <td>...</td>\n",
       "      <td>...</td>\n",
       "      <td>...</td>\n",
       "      <td>...</td>\n",
       "      <td>...</td>\n",
       "    </tr>\n",
       "    <tr>\n",
       "      <th>7018</th>\n",
       "      <td>False</td>\n",
       "      <td>False</td>\n",
       "      <td>True</td>\n",
       "      <td>False</td>\n",
       "      <td>False</td>\n",
       "      <td>False</td>\n",
       "    </tr>\n",
       "    <tr>\n",
       "      <th>7019</th>\n",
       "      <td>False</td>\n",
       "      <td>False</td>\n",
       "      <td>True</td>\n",
       "      <td>False</td>\n",
       "      <td>False</td>\n",
       "      <td>False</td>\n",
       "    </tr>\n",
       "    <tr>\n",
       "      <th>7020</th>\n",
       "      <td>False</td>\n",
       "      <td>False</td>\n",
       "      <td>True</td>\n",
       "      <td>False</td>\n",
       "      <td>False</td>\n",
       "      <td>False</td>\n",
       "    </tr>\n",
       "    <tr>\n",
       "      <th>7021</th>\n",
       "      <td>False</td>\n",
       "      <td>False</td>\n",
       "      <td>True</td>\n",
       "      <td>False</td>\n",
       "      <td>False</td>\n",
       "      <td>False</td>\n",
       "    </tr>\n",
       "    <tr>\n",
       "      <th>7022</th>\n",
       "      <td>False</td>\n",
       "      <td>False</td>\n",
       "      <td>True</td>\n",
       "      <td>False</td>\n",
       "      <td>False</td>\n",
       "      <td>False</td>\n",
       "    </tr>\n",
       "  </tbody>\n",
       "</table>\n",
       "<p>7023 rows × 6 columns</p>\n",
       "</div>"
      ],
      "text/plain": [
       "      topic_covid  topic_entertainment  topic_movie  topic_politics  \\\n",
       "0           False                False        False           False   \n",
       "1           False                False        False           False   \n",
       "2           False                False        False           False   \n",
       "3           False                False        False           False   \n",
       "4           False                False        False           False   \n",
       "...           ...                  ...          ...             ...   \n",
       "7018        False                False         True           False   \n",
       "7019        False                False         True           False   \n",
       "7020        False                False         True           False   \n",
       "7021        False                False         True           False   \n",
       "7022        False                False         True           False   \n",
       "\n",
       "      topic_sport  topic_tech  \n",
       "0           False       False  \n",
       "1           False       False  \n",
       "2           False       False  \n",
       "3           False       False  \n",
       "4           False       False  \n",
       "...           ...         ...  \n",
       "7018        False       False  \n",
       "7019        False       False  \n",
       "7020        False       False  \n",
       "7021        False       False  \n",
       "7022        False       False  \n",
       "\n",
       "[7023 rows x 6 columns]"
      ]
     },
     "execution_count": 4,
     "metadata": {},
     "output_type": "execute_result"
    }
   ],
   "source": [
    "dummy_topics"
   ]
  },
  {
   "cell_type": "markdown",
   "id": "8b7472ad-da30-4b80-bd46-c41cdf6e4c52",
   "metadata": {},
   "source": [
    "##### TEXT"
   ]
  },
  {
   "cell_type": "code",
   "execution_count": 5,
   "id": "56884a38-cee8-43a7-a79a-53271fdeb972",
   "metadata": {},
   "outputs": [],
   "source": [
    "df_posts_text = df_posts[[\"post_id\", \"text\"]].copy()"
   ]
  },
  {
   "cell_type": "markdown",
   "id": "ff8941e0-101e-483a-a4a0-d98499c5c9c9",
   "metadata": {},
   "source": [
    "###### Load Model BERT"
   ]
  },
  {
   "cell_type": "code",
   "execution_count": 116,
   "id": "bb01b395-b57a-4816-89cd-22f1d456de54",
   "metadata": {},
   "outputs": [],
   "source": [
    "from transformers import DistilBertTokenizer, DistilBertModel\n",
    "from transformers import DataCollatorWithPadding\n",
    "from tqdm import tqdm\n",
    "from torch.utils.data import DataLoader\n",
    "from datasets import Dataset\n",
    "from datasets import load_dataset\n",
    "from IPython.display import clear_output\n",
    "\n",
    "from torch.utils.data import Subset\n",
    "\n",
    "import numpy as np\n",
    "import torch"
   ]
  },
  {
   "cell_type": "code",
   "execution_count": 7,
   "id": "285a5ff4-1420-435f-8681-3fbad66ea5d2",
   "metadata": {},
   "outputs": [],
   "source": [
    "tokenizer = DistilBertTokenizer.from_pretrained('distilbert-base-cased')\n",
    "model = DistilBertModel.from_pretrained(\"distilbert-base-cased\")"
   ]
  },
  {
   "cell_type": "code",
   "execution_count": 8,
   "id": "16b5c0f0-0c36-4922-9140-f2ab563ff97c",
   "metadata": {},
   "outputs": [],
   "source": [
    "def tokenization(example):\n",
    "    return tokenizer.batch_encode_plus(example['text'], add_special_tokens=True, return_token_type_ids=False, truncation=True)"
   ]
  },
  {
   "cell_type": "code",
   "execution_count": 9,
   "id": "d5072ecf-4b9b-4ff2-a1c1-a2980cf4a931",
   "metadata": {},
   "outputs": [],
   "source": [
    "df_posts_text_hugging_face = Dataset.from_dict({\"post_id\": df_posts_text.post_id.values, \"text\": df_posts_text.text.values})"
   ]
  },
  {
   "cell_type": "code",
   "execution_count": 10,
   "id": "6cf93b41-0ff1-44eb-97c0-77e7a0615859",
   "metadata": {},
   "outputs": [
    {
     "data": {
      "application/vnd.jupyter.widget-view+json": {
       "model_id": "ab8923bb1ad14c689129d4a267531f76",
       "version_major": 2,
       "version_minor": 0
      },
      "text/plain": [
       "Map:   0%|          | 0/7023 [00:00<?, ? examples/s]"
      ]
     },
     "metadata": {},
     "output_type": "display_data"
    }
   ],
   "source": [
    "dataset_text = df_posts_text_hugging_face.map(tokenization, batched=True)\n",
    "dataset_text.set_format(type='torch', columns=['input_ids', 'attention_mask'])"
   ]
  },
  {
   "cell_type": "code",
   "execution_count": 11,
   "id": "bf667148-119f-4bd9-950a-40fd13fb4b8c",
   "metadata": {},
   "outputs": [],
   "source": [
    "data_collator = DataCollatorWithPadding(tokenizer=tokenizer)\n",
    "loader = DataLoader(dataset_text, batch_size=64, collate_fn=data_collator, pin_memory=True, shuffle=False)"
   ]
  },
  {
   "cell_type": "code",
   "execution_count": 12,
   "id": "953b1328-fb2a-4db0-b728-8e1ac759de97",
   "metadata": {},
   "outputs": [
    {
     "name": "stdout",
     "output_type": "stream",
     "text": [
      "cuda:0\n"
     ]
    }
   ],
   "source": [
    "device = torch.device(\"cuda:0\" if torch.cuda.is_available() else \"cpu\")\n",
    "print(device)"
   ]
  },
  {
   "cell_type": "code",
   "execution_count": 19,
   "id": "145603fe-5927-41d9-953a-ce5af13901f2",
   "metadata": {},
   "outputs": [],
   "source": [
    "@torch.inference_mode()\n",
    "def get_embeddings_labels(model, loader):\n",
    "    model.eval()\n",
    "\n",
    "    total_embeddings = []\n",
    "    for batch in tqdm(loader):\n",
    "        batch = {key: batch[key].cuda() for key in ['attention_mask', 'input_ids']}\n",
    "        \n",
    "        embeddings = model(**batch)['last_hidden_state'][:, 0, :]\n",
    "        total_embeddings.append(embeddings.cpu())\n",
    "\n",
    "    return torch.cat(total_embeddings, dim=0)"
   ]
  },
  {
   "cell_type": "code",
   "execution_count": 21,
   "id": "b737f252-4d43-4259-ade0-7f22075e2cb6",
   "metadata": {},
   "outputs": [],
   "source": [
    "model = model.to(device)"
   ]
  },
  {
   "cell_type": "code",
   "execution_count": 22,
   "id": "8da93c5d-ce66-4eef-90cd-4641eafdb817",
   "metadata": {},
   "outputs": [
    {
     "name": "stderr",
     "output_type": "stream",
     "text": [
      "100%|████████████████████████████████████████████████████████████████████████████████████████████████████████████████████████████████████████████████████████████████████████████████████| 110/110 [01:23<00:00,  1.31it/s]\n"
     ]
    }
   ],
   "source": [
    "embedings = get_embeddings_labels(model, loader)"
   ]
  },
  {
   "cell_type": "code",
   "execution_count": 37,
   "id": "f73af9f6-f176-4a66-9f8f-20dc3d4b243e",
   "metadata": {},
   "outputs": [],
   "source": [
    "embeddings_df = pd.DataFrame(torch.Tensor.numpy(embedings))"
   ]
  },
  {
   "cell_type": "code",
   "execution_count": 163,
   "id": "a1228b8a-60f6-49fc-83cf-5e0be4d242d5",
   "metadata": {},
   "outputs": [],
   "source": [
    "# torch.save(embedings, 'distilbert_text_embeddings.pt')"
   ]
  },
  {
   "cell_type": "code",
   "execution_count": 175,
   "id": "ea248ff5-a288-4829-b6f0-f77e56831641",
   "metadata": {},
   "outputs": [],
   "source": [
    "df_posts_embedings = pd.concat([df_posts_text,dummy_topics, embeddings_df], axis=1).drop(axis=1, columns=['text'])"
   ]
  },
  {
   "cell_type": "code",
   "execution_count": 180,
   "id": "c9a3fb81-59a2-427f-bd28-583debb56d1f",
   "metadata": {},
   "outputs": [],
   "source": [
    "# df_posts_embedings.to_parquet(\"df_posts_embedings.parquet\")"
   ]
  },
  {
   "cell_type": "markdown",
   "id": "057c6f81-85fc-45f3-8774-378249ee7e43",
   "metadata": {
    "jp-MarkdownHeadingCollapsed": true
   },
   "source": [
    "#### Transform User data"
   ]
  },
  {
   "cell_type": "code",
   "execution_count": 186,
   "id": "37c94fb8-9660-4395-a8a5-35bcc2e72134",
   "metadata": {},
   "outputs": [
    {
     "data": {
      "text/html": [
       "<div>\n",
       "<style scoped>\n",
       "    .dataframe tbody tr th:only-of-type {\n",
       "        vertical-align: middle;\n",
       "    }\n",
       "\n",
       "    .dataframe tbody tr th {\n",
       "        vertical-align: top;\n",
       "    }\n",
       "\n",
       "    .dataframe thead th {\n",
       "        text-align: right;\n",
       "    }\n",
       "</style>\n",
       "<table border=\"1\" class=\"dataframe\">\n",
       "  <thead>\n",
       "    <tr style=\"text-align: right;\">\n",
       "      <th></th>\n",
       "      <th>id</th>\n",
       "      <th>gender</th>\n",
       "      <th>age</th>\n",
       "      <th>country</th>\n",
       "      <th>city</th>\n",
       "      <th>exp_group</th>\n",
       "      <th>os</th>\n",
       "      <th>source</th>\n",
       "    </tr>\n",
       "  </thead>\n",
       "  <tbody>\n",
       "    <tr>\n",
       "      <th>0</th>\n",
       "      <td>200</td>\n",
       "      <td>1</td>\n",
       "      <td>34</td>\n",
       "      <td>Russia</td>\n",
       "      <td>Degtyarsk</td>\n",
       "      <td>3</td>\n",
       "      <td>Android</td>\n",
       "      <td>ads</td>\n",
       "    </tr>\n",
       "    <tr>\n",
       "      <th>1</th>\n",
       "      <td>201</td>\n",
       "      <td>0</td>\n",
       "      <td>37</td>\n",
       "      <td>Russia</td>\n",
       "      <td>Abakan</td>\n",
       "      <td>0</td>\n",
       "      <td>Android</td>\n",
       "      <td>ads</td>\n",
       "    </tr>\n",
       "    <tr>\n",
       "      <th>2</th>\n",
       "      <td>202</td>\n",
       "      <td>1</td>\n",
       "      <td>17</td>\n",
       "      <td>Russia</td>\n",
       "      <td>Smolensk</td>\n",
       "      <td>4</td>\n",
       "      <td>Android</td>\n",
       "      <td>ads</td>\n",
       "    </tr>\n",
       "    <tr>\n",
       "      <th>3</th>\n",
       "      <td>203</td>\n",
       "      <td>0</td>\n",
       "      <td>18</td>\n",
       "      <td>Russia</td>\n",
       "      <td>Moscow</td>\n",
       "      <td>1</td>\n",
       "      <td>iOS</td>\n",
       "      <td>ads</td>\n",
       "    </tr>\n",
       "    <tr>\n",
       "      <th>4</th>\n",
       "      <td>204</td>\n",
       "      <td>0</td>\n",
       "      <td>36</td>\n",
       "      <td>Russia</td>\n",
       "      <td>Anzhero-Sudzhensk</td>\n",
       "      <td>3</td>\n",
       "      <td>Android</td>\n",
       "      <td>ads</td>\n",
       "    </tr>\n",
       "  </tbody>\n",
       "</table>\n",
       "</div>"
      ],
      "text/plain": [
       "    id  gender  age country               city  exp_group       os source\n",
       "0  200       1   34  Russia          Degtyarsk          3  Android    ads\n",
       "1  201       0   37  Russia             Abakan          0  Android    ads\n",
       "2  202       1   17  Russia           Smolensk          4  Android    ads\n",
       "3  203       0   18  Russia             Moscow          1      iOS    ads\n",
       "4  204       0   36  Russia  Anzhero-Sudzhensk          3  Android    ads"
      ]
     },
     "execution_count": 186,
     "metadata": {},
     "output_type": "execute_result"
    }
   ],
   "source": [
    "df_users.head()"
   ]
  },
  {
   "cell_type": "code",
   "execution_count": 189,
   "id": "e1d6b960-5a36-4522-bdf7-28b5a2a26d71",
   "metadata": {},
   "outputs": [],
   "source": [
    "dummies_country = pd.get_dummies(df_users['country'], drop_first=True)"
   ]
  },
  {
   "cell_type": "code",
   "execution_count": 190,
   "id": "96f85174-56f8-4715-9a02-4c29a68eeead",
   "metadata": {},
   "outputs": [],
   "source": [
    "dummies_exp_group = pd.get_dummies(df_users['exp_group'], drop_first=True)"
   ]
  },
  {
   "cell_type": "code",
   "execution_count": 193,
   "id": "a402a822-4b1c-4983-846d-51afd102b6a2",
   "metadata": {},
   "outputs": [],
   "source": [
    "dummies_os = pd.get_dummies(df_users['os'])"
   ]
  },
  {
   "cell_type": "code",
   "execution_count": 195,
   "id": "c0d2bfdc-fd5d-42b3-a3d5-f5961f331a6e",
   "metadata": {},
   "outputs": [],
   "source": [
    "dummies_source = pd.get_dummies(df_users['source'])"
   ]
  },
  {
   "cell_type": "code",
   "execution_count": 198,
   "id": "3c186422-0252-46c7-9db9-45a223861815",
   "metadata": {},
   "outputs": [],
   "source": [
    "df_users = df_users.drop(axis=1, columns=['country','city','exp_group','os','source'])"
   ]
  },
  {
   "cell_type": "code",
   "execution_count": 201,
   "id": "663df491-2725-4b59-b5b7-3d7cb7ce318b",
   "metadata": {},
   "outputs": [],
   "source": [
    "df_users = pd.concat([df_users, dummies_country, dummies_exp_group, dummies_os, dummies_source], axis=1)"
   ]
  },
  {
   "cell_type": "code",
   "execution_count": 215,
   "id": "30d53e0f-f0f2-4a7b-8fb5-bbf15b6a6a01",
   "metadata": {},
   "outputs": [],
   "source": [
    "df_users.to_parquet('../data/df_users_embedings.parquet')"
   ]
  },
  {
   "cell_type": "code",
   "execution_count": 213,
   "id": "911924a7-9765-4765-a2ea-277a3c9ded40",
   "metadata": {},
   "outputs": [],
   "source": [
    "df_users = df_users.rename(columns={1: \"exp_1\", 2: \"exp_2\", 3: \"exp_3\", 4: \"exp_4\"})"
   ]
  },
  {
   "cell_type": "code",
   "execution_count": null,
   "id": "6716f435-840d-40e3-aa49-0c9618fd501f",
   "metadata": {},
   "outputs": [],
   "source": []
  }
 ],
 "metadata": {
  "kernelspec": {
   "display_name": "Python 3 (ipykernel)",
   "language": "python",
   "name": "python3"
  },
  "language_info": {
   "codemirror_mode": {
    "name": "ipython",
    "version": 3
   },
   "file_extension": ".py",
   "mimetype": "text/x-python",
   "name": "python",
   "nbconvert_exporter": "python",
   "pygments_lexer": "ipython3",
   "version": "3.10.12"
  }
 },
 "nbformat": 4,
 "nbformat_minor": 5
}
